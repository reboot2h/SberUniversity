{
  "cells": [
    {
      "cell_type": "code",
      "execution_count": 267,
      "metadata": {
        "id": "fTEA_JGYP6di"
      },
      "outputs": [],
      "source": [
        "import numpy as np\n",
        "import matplotlib.pyplot as plt\n",
        "import seaborn as sns\n",
        "import pandas as pd\n",
        "%matplotlib inline \n",
        "sns.set_theme()"
      ]
    },
    {
      "cell_type": "markdown",
      "metadata": {
        "id": "GNs6yg1QT0I3"
      },
      "source": [
        "# Визуальный анализ рейтингов шоу Netflix\n",
        "<img src=\"https://pp.userapi.com/c854528/v854528797/c62ce/FiPEibYUxJc.jpg\" width=\"40%\">"
      ]
    },
    {
      "cell_type": "markdown",
      "metadata": {
        "id": "JYeFv80TV21w"
      },
      "source": [
        "Netflix за последние 5-10 лет обзавелись большим количеством зрителей. С увеличением числа зрителей увеличилось и разнообразие шоу. Соответственно, перед аналитиками из киноиндустрии встала задача исследования данных с рейтингами различных сериалов.  \n",
        "В данном задании вам предстоит провести визуальный анализ датасета **1000 Netflix Shows** (по состоянию на 11.06.2017) и сделать выводы.  \n",
        "\n"
      ]
    },
    {
      "cell_type": "markdown",
      "metadata": {
        "id": "7TCLul8ycMHW"
      },
      "source": [
        "Описание признаков:\n",
        "* `title` - название шоу.\n",
        "* `rating` - рейтинг шоу. Например: G, PG, TV-14, TV-MA\n",
        "* `ratingLevel` - описание рейтинговой группы и особенностей шоу.\n",
        "* `ratingDescription` - рейтинг шоу, закодированный в числом\n",
        "* `release year` - год выпуска шоу.\n",
        "* `user rating score` - оценка пользователей.\n",
        "* `user_rating_size` - общий рейтинг пользователей"
      ]
    },
    {
      "cell_type": "markdown",
      "metadata": {
        "id": "coqxjUJY4D4B"
      },
      "source": [
        "## Требования к групповому проекту\n",
        "\n",
        "В качестве результата ваша группа должна получить презентацию и защитить ее на дополнительном занятии.  \n",
        "Ссылка на шаблон к презентации: лежит рядом с заданием в классруме.  \n",
        "Вы можете менять оформление презентации, но помните, что результат должен быть релевантен для демонстрации заказчику. Например, вставлять в презентацию строчки кода не стоит :)\n",
        "\n",
        "Помимо презентации, каждому из участников проекта нужно будет сдать свой notebook c решением на проверку. Наши ассистенты проверять ваш код, визуализацию и выводы, после чего вернутся к вам с фидбеком. \n",
        "\n",
        "Вопросы, на которые нужно ответить в презентации: \n",
        "- сколько рейтинговых групп представлено в данных?\n",
        "- какие оценки пользователи ставят чаще всего?\n",
        "- какие оценки пользователи ставят в среднем?\n",
        "- в какие годы были запущены шоу?\n",
        "- можно ли сделать вывод, что 2017 год успешнее для Netflix?\n",
        "- в каких рейтинговых группах запущены шоу на Netflix?\n",
        "- выберите любое шоу (например, самое понравившееся) и составьте его описательный портрет. На какие вопросы о нем вам было бы интересно ответить, если бы вы были заказчиком? Ответьте на эти вопросы :) \n",
        "\n",
        "Вопросы ниже помогут вам ответить на вопросы из презентации и сопроводить выводы релевантной визуализацией. \n",
        "\n",
        "Любой хороший data-scientist должен уметь работать в команде, поэтому распределение ваших усилий в проекте остается за вами. Как пример, вы можете распределить вопросы/слайды между собой.\n"
      ]
    },
    {
      "cell_type": "markdown",
      "metadata": {
        "id": "AZdB2Z9S4D4C"
      },
      "source": [
        "## Решение"
      ]
    },
    {
      "cell_type": "markdown",
      "metadata": {
        "id": "bJJkNLerajEn"
      },
      "source": [
        "Скачайте данные: они лежат рядом с этим файлом в классруме. \n",
        "Загрузите данные, выполнив код ниже."
      ]
    },
    {
      "cell_type": "code",
      "execution_count": 268,
      "metadata": {
        "id": "8Zgk_NN_SSDm"
      },
      "outputs": [],
      "source": [
        "data = pd.read_csv(\"Netflix Shows.csv\", encoding='cp437')\n",
        "del data['ratingDescription'], data['user rating size']"
      ]
    },
    {
      "cell_type": "code",
      "execution_count": 269,
      "metadata": {
        "colab": {
          "base_uri": "https://localhost:8080/",
          "height": 424
        },
        "id": "5io1SYsxJOLL",
        "outputId": "a30306e9-53b7-44cc-8949-1524f0659d8e"
      },
      "outputs": [
        {
          "data": {
            "text/html": [
              "<div>\n",
              "<style scoped>\n",
              "    .dataframe tbody tr th:only-of-type {\n",
              "        vertical-align: middle;\n",
              "    }\n",
              "\n",
              "    .dataframe tbody tr th {\n",
              "        vertical-align: top;\n",
              "    }\n",
              "\n",
              "    .dataframe thead th {\n",
              "        text-align: right;\n",
              "    }\n",
              "</style>\n",
              "<table border=\"1\" class=\"dataframe\">\n",
              "  <thead>\n",
              "    <tr style=\"text-align: right;\">\n",
              "      <th></th>\n",
              "      <th>title</th>\n",
              "      <th>rating</th>\n",
              "      <th>ratingLevel</th>\n",
              "      <th>release year</th>\n",
              "      <th>user rating score</th>\n",
              "    </tr>\n",
              "  </thead>\n",
              "  <tbody>\n",
              "    <tr>\n",
              "      <th>0</th>\n",
              "      <td>White Chicks</td>\n",
              "      <td>PG-13</td>\n",
              "      <td>crude and sexual humor, language and some drug...</td>\n",
              "      <td>2004</td>\n",
              "      <td>82.0</td>\n",
              "    </tr>\n",
              "    <tr>\n",
              "      <th>1</th>\n",
              "      <td>Lucky Number Slevin</td>\n",
              "      <td>R</td>\n",
              "      <td>strong violence, sexual content and adult lang...</td>\n",
              "      <td>2006</td>\n",
              "      <td>NaN</td>\n",
              "    </tr>\n",
              "    <tr>\n",
              "      <th>2</th>\n",
              "      <td>Grey's Anatomy</td>\n",
              "      <td>TV-14</td>\n",
              "      <td>Parents strongly cautioned. May be unsuitable ...</td>\n",
              "      <td>2016</td>\n",
              "      <td>98.0</td>\n",
              "    </tr>\n",
              "    <tr>\n",
              "      <th>3</th>\n",
              "      <td>Prison Break</td>\n",
              "      <td>TV-14</td>\n",
              "      <td>Parents strongly cautioned. May be unsuitable ...</td>\n",
              "      <td>2008</td>\n",
              "      <td>98.0</td>\n",
              "    </tr>\n",
              "    <tr>\n",
              "      <th>4</th>\n",
              "      <td>How I Met Your Mother</td>\n",
              "      <td>TV-PG</td>\n",
              "      <td>Parental guidance suggested. May not be suitab...</td>\n",
              "      <td>2014</td>\n",
              "      <td>94.0</td>\n",
              "    </tr>\n",
              "    <tr>\n",
              "      <th>...</th>\n",
              "      <td>...</td>\n",
              "      <td>...</td>\n",
              "      <td>...</td>\n",
              "      <td>...</td>\n",
              "      <td>...</td>\n",
              "    </tr>\n",
              "    <tr>\n",
              "      <th>995</th>\n",
              "      <td>The BFG</td>\n",
              "      <td>PG</td>\n",
              "      <td>for action/peril, some scary moments and brief...</td>\n",
              "      <td>2016</td>\n",
              "      <td>97.0</td>\n",
              "    </tr>\n",
              "    <tr>\n",
              "      <th>996</th>\n",
              "      <td>The Secret Life of Pets</td>\n",
              "      <td>PG</td>\n",
              "      <td>for action and some rude humor</td>\n",
              "      <td>2016</td>\n",
              "      <td>NaN</td>\n",
              "    </tr>\n",
              "    <tr>\n",
              "      <th>997</th>\n",
              "      <td>Precious Puppies</td>\n",
              "      <td>TV-G</td>\n",
              "      <td>Suitable for all ages.</td>\n",
              "      <td>2003</td>\n",
              "      <td>NaN</td>\n",
              "    </tr>\n",
              "    <tr>\n",
              "      <th>998</th>\n",
              "      <td>Beary Tales</td>\n",
              "      <td>TV-G</td>\n",
              "      <td>Suitable for all ages.</td>\n",
              "      <td>2013</td>\n",
              "      <td>NaN</td>\n",
              "    </tr>\n",
              "    <tr>\n",
              "      <th>999</th>\n",
              "      <td>Growing Up Wild</td>\n",
              "      <td>G</td>\n",
              "      <td>NaN</td>\n",
              "      <td>2016</td>\n",
              "      <td>80.0</td>\n",
              "    </tr>\n",
              "  </tbody>\n",
              "</table>\n",
              "<p>1000 rows × 5 columns</p>\n",
              "</div>"
            ],
            "text/plain": [
              "                       title rating  \\\n",
              "0               White Chicks  PG-13   \n",
              "1        Lucky Number Slevin      R   \n",
              "2             Grey's Anatomy  TV-14   \n",
              "3               Prison Break  TV-14   \n",
              "4      How I Met Your Mother  TV-PG   \n",
              "..                       ...    ...   \n",
              "995                  The BFG     PG   \n",
              "996  The Secret Life of Pets     PG   \n",
              "997         Precious Puppies   TV-G   \n",
              "998              Beary Tales   TV-G   \n",
              "999          Growing Up Wild      G   \n",
              "\n",
              "                                           ratingLevel  release year  \\\n",
              "0    crude and sexual humor, language and some drug...          2004   \n",
              "1    strong violence, sexual content and adult lang...          2006   \n",
              "2    Parents strongly cautioned. May be unsuitable ...          2016   \n",
              "3    Parents strongly cautioned. May be unsuitable ...          2008   \n",
              "4    Parental guidance suggested. May not be suitab...          2014   \n",
              "..                                                 ...           ...   \n",
              "995  for action/peril, some scary moments and brief...          2016   \n",
              "996                     for action and some rude humor          2016   \n",
              "997                             Suitable for all ages.          2003   \n",
              "998                             Suitable for all ages.          2013   \n",
              "999                                                NaN          2016   \n",
              "\n",
              "     user rating score  \n",
              "0                 82.0  \n",
              "1                  NaN  \n",
              "2                 98.0  \n",
              "3                 98.0  \n",
              "4                 94.0  \n",
              "..                 ...  \n",
              "995               97.0  \n",
              "996                NaN  \n",
              "997                NaN  \n",
              "998                NaN  \n",
              "999               80.0  \n",
              "\n",
              "[1000 rows x 5 columns]"
            ]
          },
          "execution_count": 269,
          "metadata": {},
          "output_type": "execute_result"
        }
      ],
      "source": [
        "data"
      ]
    },
    {
      "cell_type": "markdown",
      "metadata": {
        "id": "cZqqAjTTjBhv"
      },
      "source": [
        "Удалите из данных дупликаты. "
      ]
    },
    {
      "cell_type": "code",
      "execution_count": 270,
      "metadata": {
        "colab": {
          "base_uri": "https://localhost:8080/",
          "height": 424
        },
        "id": "6lWD2o02jAPr",
        "outputId": "44ef3268-4cca-475b-e36f-c472626b7951"
      },
      "outputs": [
        {
          "data": {
            "text/html": [
              "<div>\n",
              "<style scoped>\n",
              "    .dataframe tbody tr th:only-of-type {\n",
              "        vertical-align: middle;\n",
              "    }\n",
              "\n",
              "    .dataframe tbody tr th {\n",
              "        vertical-align: top;\n",
              "    }\n",
              "\n",
              "    .dataframe thead th {\n",
              "        text-align: right;\n",
              "    }\n",
              "</style>\n",
              "<table border=\"1\" class=\"dataframe\">\n",
              "  <thead>\n",
              "    <tr style=\"text-align: right;\">\n",
              "      <th></th>\n",
              "      <th>title</th>\n",
              "      <th>rating</th>\n",
              "      <th>ratingLevel</th>\n",
              "      <th>release year</th>\n",
              "      <th>user rating score</th>\n",
              "    </tr>\n",
              "  </thead>\n",
              "  <tbody>\n",
              "    <tr>\n",
              "      <th>0</th>\n",
              "      <td>White Chicks</td>\n",
              "      <td>PG-13</td>\n",
              "      <td>crude and sexual humor, language and some drug...</td>\n",
              "      <td>2004</td>\n",
              "      <td>82.0</td>\n",
              "    </tr>\n",
              "    <tr>\n",
              "      <th>1</th>\n",
              "      <td>Lucky Number Slevin</td>\n",
              "      <td>R</td>\n",
              "      <td>strong violence, sexual content and adult lang...</td>\n",
              "      <td>2006</td>\n",
              "      <td>NaN</td>\n",
              "    </tr>\n",
              "    <tr>\n",
              "      <th>2</th>\n",
              "      <td>Grey's Anatomy</td>\n",
              "      <td>TV-14</td>\n",
              "      <td>Parents strongly cautioned. May be unsuitable ...</td>\n",
              "      <td>2016</td>\n",
              "      <td>98.0</td>\n",
              "    </tr>\n",
              "    <tr>\n",
              "      <th>3</th>\n",
              "      <td>Prison Break</td>\n",
              "      <td>TV-14</td>\n",
              "      <td>Parents strongly cautioned. May be unsuitable ...</td>\n",
              "      <td>2008</td>\n",
              "      <td>98.0</td>\n",
              "    </tr>\n",
              "    <tr>\n",
              "      <th>4</th>\n",
              "      <td>How I Met Your Mother</td>\n",
              "      <td>TV-PG</td>\n",
              "      <td>Parental guidance suggested. May not be suitab...</td>\n",
              "      <td>2014</td>\n",
              "      <td>94.0</td>\n",
              "    </tr>\n",
              "    <tr>\n",
              "      <th>...</th>\n",
              "      <td>...</td>\n",
              "      <td>...</td>\n",
              "      <td>...</td>\n",
              "      <td>...</td>\n",
              "      <td>...</td>\n",
              "    </tr>\n",
              "    <tr>\n",
              "      <th>989</th>\n",
              "      <td>Russell Madness</td>\n",
              "      <td>PG</td>\n",
              "      <td>some rude humor and sports action</td>\n",
              "      <td>2015</td>\n",
              "      <td>NaN</td>\n",
              "    </tr>\n",
              "    <tr>\n",
              "      <th>993</th>\n",
              "      <td>Wiener Dog Internationals</td>\n",
              "      <td>G</td>\n",
              "      <td>General Audiences. Suitable for all ages.</td>\n",
              "      <td>2015</td>\n",
              "      <td>NaN</td>\n",
              "    </tr>\n",
              "    <tr>\n",
              "      <th>994</th>\n",
              "      <td>Pup Star</td>\n",
              "      <td>G</td>\n",
              "      <td>General Audiences. Suitable for all ages.</td>\n",
              "      <td>2016</td>\n",
              "      <td>NaN</td>\n",
              "    </tr>\n",
              "    <tr>\n",
              "      <th>997</th>\n",
              "      <td>Precious Puppies</td>\n",
              "      <td>TV-G</td>\n",
              "      <td>Suitable for all ages.</td>\n",
              "      <td>2003</td>\n",
              "      <td>NaN</td>\n",
              "    </tr>\n",
              "    <tr>\n",
              "      <th>998</th>\n",
              "      <td>Beary Tales</td>\n",
              "      <td>TV-G</td>\n",
              "      <td>Suitable for all ages.</td>\n",
              "      <td>2013</td>\n",
              "      <td>NaN</td>\n",
              "    </tr>\n",
              "  </tbody>\n",
              "</table>\n",
              "<p>500 rows × 5 columns</p>\n",
              "</div>"
            ],
            "text/plain": [
              "                         title rating  \\\n",
              "0                 White Chicks  PG-13   \n",
              "1          Lucky Number Slevin      R   \n",
              "2               Grey's Anatomy  TV-14   \n",
              "3                 Prison Break  TV-14   \n",
              "4        How I Met Your Mother  TV-PG   \n",
              "..                         ...    ...   \n",
              "989            Russell Madness     PG   \n",
              "993  Wiener Dog Internationals      G   \n",
              "994                   Pup Star      G   \n",
              "997           Precious Puppies   TV-G   \n",
              "998                Beary Tales   TV-G   \n",
              "\n",
              "                                           ratingLevel  release year  \\\n",
              "0    crude and sexual humor, language and some drug...          2004   \n",
              "1    strong violence, sexual content and adult lang...          2006   \n",
              "2    Parents strongly cautioned. May be unsuitable ...          2016   \n",
              "3    Parents strongly cautioned. May be unsuitable ...          2008   \n",
              "4    Parental guidance suggested. May not be suitab...          2014   \n",
              "..                                                 ...           ...   \n",
              "989                  some rude humor and sports action          2015   \n",
              "993          General Audiences. Suitable for all ages.          2015   \n",
              "994          General Audiences. Suitable for all ages.          2016   \n",
              "997                             Suitable for all ages.          2003   \n",
              "998                             Suitable for all ages.          2013   \n",
              "\n",
              "     user rating score  \n",
              "0                 82.0  \n",
              "1                  NaN  \n",
              "2                 98.0  \n",
              "3                 98.0  \n",
              "4                 94.0  \n",
              "..                 ...  \n",
              "989                NaN  \n",
              "993                NaN  \n",
              "994                NaN  \n",
              "997                NaN  \n",
              "998                NaN  \n",
              "\n",
              "[500 rows x 5 columns]"
            ]
          },
          "execution_count": 270,
          "metadata": {},
          "output_type": "execute_result"
        }
      ],
      "source": [
        "data = data.drop_duplicates()\n",
        "data"
      ]
    },
    {
      "cell_type": "code",
      "execution_count": 271,
      "metadata": {
        "colab": {
          "base_uri": "https://localhost:8080/",
          "height": 279
        },
        "id": "eX5tZjk-Cqyp",
        "outputId": "c561fb69-aea5-4075-a2f2-4370ee423b1d"
      },
      "outputs": [
        {
          "data": {
            "text/html": [
              "<div>\n",
              "<style scoped>\n",
              "    .dataframe tbody tr th:only-of-type {\n",
              "        vertical-align: middle;\n",
              "    }\n",
              "\n",
              "    .dataframe tbody tr th {\n",
              "        vertical-align: top;\n",
              "    }\n",
              "\n",
              "    .dataframe thead th {\n",
              "        text-align: right;\n",
              "    }\n",
              "</style>\n",
              "<table border=\"1\" class=\"dataframe\">\n",
              "  <thead>\n",
              "    <tr style=\"text-align: right;\">\n",
              "      <th></th>\n",
              "      <th>title</th>\n",
              "      <th>rating</th>\n",
              "      <th>ratingLevel</th>\n",
              "      <th>release year</th>\n",
              "      <th>user rating score</th>\n",
              "    </tr>\n",
              "  </thead>\n",
              "  <tbody>\n",
              "    <tr>\n",
              "      <th>167</th>\n",
              "      <td>Bordertown</td>\n",
              "      <td>TV-14</td>\n",
              "      <td>Parents strongly cautioned. May be unsuitable ...</td>\n",
              "      <td>2016</td>\n",
              "      <td>86.0</td>\n",
              "    </tr>\n",
              "    <tr>\n",
              "      <th>449</th>\n",
              "      <td>Bordertown</td>\n",
              "      <td>TV-MA</td>\n",
              "      <td>For mature audiences.  May not be suitable for...</td>\n",
              "      <td>2016</td>\n",
              "      <td>NaN</td>\n",
              "    </tr>\n",
              "    <tr>\n",
              "      <th>568</th>\n",
              "      <td>Goosebumps</td>\n",
              "      <td>TV-Y7</td>\n",
              "      <td>Suitable for children ages 7 and older</td>\n",
              "      <td>1998</td>\n",
              "      <td>88.0</td>\n",
              "    </tr>\n",
              "    <tr>\n",
              "      <th>632</th>\n",
              "      <td>Goosebumps</td>\n",
              "      <td>PG</td>\n",
              "      <td>scary and intense creature action and images, ...</td>\n",
              "      <td>2015</td>\n",
              "      <td>90.0</td>\n",
              "    </tr>\n",
              "    <tr>\n",
              "      <th>151</th>\n",
              "      <td>Skins</td>\n",
              "      <td>TV-MA</td>\n",
              "      <td>For mature audiences.  May not be suitable for...</td>\n",
              "      <td>2013</td>\n",
              "      <td>NaN</td>\n",
              "    </tr>\n",
              "    <tr>\n",
              "      <th>181</th>\n",
              "      <td>Skins</td>\n",
              "      <td>TV-MA</td>\n",
              "      <td>NaN</td>\n",
              "      <td>2017</td>\n",
              "      <td>NaN</td>\n",
              "    </tr>\n",
              "    <tr>\n",
              "      <th>504</th>\n",
              "      <td>Star Wars: The Clone Wars</td>\n",
              "      <td>PG</td>\n",
              "      <td>sci-fi action violence throughout, brief langu...</td>\n",
              "      <td>2008</td>\n",
              "      <td>57.0</td>\n",
              "    </tr>\n",
              "    <tr>\n",
              "      <th>512</th>\n",
              "      <td>Star Wars: The Clone Wars</td>\n",
              "      <td>TV-PG</td>\n",
              "      <td>Parental guidance suggested. May not be suitab...</td>\n",
              "      <td>2014</td>\n",
              "      <td>93.0</td>\n",
              "    </tr>\n",
              "  </tbody>\n",
              "</table>\n",
              "</div>"
            ],
            "text/plain": [
              "                         title rating  \\\n",
              "167                 Bordertown  TV-14   \n",
              "449                 Bordertown  TV-MA   \n",
              "568                 Goosebumps  TV-Y7   \n",
              "632                 Goosebumps     PG   \n",
              "151                      Skins  TV-MA   \n",
              "181                      Skins  TV-MA   \n",
              "504  Star Wars: The Clone Wars     PG   \n",
              "512  Star Wars: The Clone Wars  TV-PG   \n",
              "\n",
              "                                           ratingLevel  release year  \\\n",
              "167  Parents strongly cautioned. May be unsuitable ...          2016   \n",
              "449  For mature audiences.  May not be suitable for...          2016   \n",
              "568             Suitable for children ages 7 and older          1998   \n",
              "632  scary and intense creature action and images, ...          2015   \n",
              "151  For mature audiences.  May not be suitable for...          2013   \n",
              "181                                                NaN          2017   \n",
              "504  sci-fi action violence throughout, brief langu...          2008   \n",
              "512  Parental guidance suggested. May not be suitab...          2014   \n",
              "\n",
              "     user rating score  \n",
              "167               86.0  \n",
              "449                NaN  \n",
              "568               88.0  \n",
              "632               90.0  \n",
              "151                NaN  \n",
              "181                NaN  \n",
              "504               57.0  \n",
              "512               93.0  "
            ]
          },
          "execution_count": 271,
          "metadata": {},
          "output_type": "execute_result"
        }
      ],
      "source": [
        "data[data.duplicated(subset=['title'], keep=False)].sort_values(by='title')"
      ]
    },
    {
      "cell_type": "markdown",
      "metadata": {
        "id": "HwivhoorHV7B"
      },
      "source": [
        "**Эти дубликаты - разные шоу, с одинаковыми названиями.**"
      ]
    },
    {
      "cell_type": "code",
      "execution_count": 272,
      "metadata": {
        "colab": {
          "base_uri": "https://localhost:8080/",
          "height": 424
        },
        "id": "dHJQbqasI1eP",
        "outputId": "13ec854d-7ffc-40ef-d0d0-b6ab616b8eb6"
      },
      "outputs": [
        {
          "data": {
            "text/html": [
              "<div>\n",
              "<style scoped>\n",
              "    .dataframe tbody tr th:only-of-type {\n",
              "        vertical-align: middle;\n",
              "    }\n",
              "\n",
              "    .dataframe tbody tr th {\n",
              "        vertical-align: top;\n",
              "    }\n",
              "\n",
              "    .dataframe thead th {\n",
              "        text-align: right;\n",
              "    }\n",
              "</style>\n",
              "<table border=\"1\" class=\"dataframe\">\n",
              "  <thead>\n",
              "    <tr style=\"text-align: right;\">\n",
              "      <th></th>\n",
              "      <th>title</th>\n",
              "      <th>rating</th>\n",
              "      <th>ratingLevel</th>\n",
              "      <th>release year</th>\n",
              "      <th>user rating score</th>\n",
              "    </tr>\n",
              "  </thead>\n",
              "  <tbody>\n",
              "    <tr>\n",
              "      <th>0</th>\n",
              "      <td>White Chicks</td>\n",
              "      <td>PG-13</td>\n",
              "      <td>crude and sexual humor, language and some drug...</td>\n",
              "      <td>2004</td>\n",
              "      <td>82.0</td>\n",
              "    </tr>\n",
              "    <tr>\n",
              "      <th>1</th>\n",
              "      <td>Lucky Number Slevin</td>\n",
              "      <td>R</td>\n",
              "      <td>strong violence, sexual content and adult lang...</td>\n",
              "      <td>2006</td>\n",
              "      <td>NaN</td>\n",
              "    </tr>\n",
              "    <tr>\n",
              "      <th>2</th>\n",
              "      <td>Grey's Anatomy</td>\n",
              "      <td>TV-14</td>\n",
              "      <td>Parents strongly cautioned. May be unsuitable ...</td>\n",
              "      <td>2016</td>\n",
              "      <td>98.0</td>\n",
              "    </tr>\n",
              "    <tr>\n",
              "      <th>3</th>\n",
              "      <td>Prison Break</td>\n",
              "      <td>TV-14</td>\n",
              "      <td>Parents strongly cautioned. May be unsuitable ...</td>\n",
              "      <td>2008</td>\n",
              "      <td>98.0</td>\n",
              "    </tr>\n",
              "    <tr>\n",
              "      <th>4</th>\n",
              "      <td>How I Met Your Mother</td>\n",
              "      <td>TV-PG</td>\n",
              "      <td>Parental guidance suggested. May not be suitab...</td>\n",
              "      <td>2014</td>\n",
              "      <td>94.0</td>\n",
              "    </tr>\n",
              "    <tr>\n",
              "      <th>...</th>\n",
              "      <td>...</td>\n",
              "      <td>...</td>\n",
              "      <td>...</td>\n",
              "      <td>...</td>\n",
              "      <td>...</td>\n",
              "    </tr>\n",
              "    <tr>\n",
              "      <th>495</th>\n",
              "      <td>Russell Madness</td>\n",
              "      <td>PG</td>\n",
              "      <td>some rude humor and sports action</td>\n",
              "      <td>2015</td>\n",
              "      <td>NaN</td>\n",
              "    </tr>\n",
              "    <tr>\n",
              "      <th>496</th>\n",
              "      <td>Wiener Dog Internationals</td>\n",
              "      <td>G</td>\n",
              "      <td>General Audiences. Suitable for all ages.</td>\n",
              "      <td>2015</td>\n",
              "      <td>NaN</td>\n",
              "    </tr>\n",
              "    <tr>\n",
              "      <th>497</th>\n",
              "      <td>Pup Star</td>\n",
              "      <td>G</td>\n",
              "      <td>General Audiences. Suitable for all ages.</td>\n",
              "      <td>2016</td>\n",
              "      <td>NaN</td>\n",
              "    </tr>\n",
              "    <tr>\n",
              "      <th>498</th>\n",
              "      <td>Precious Puppies</td>\n",
              "      <td>TV-G</td>\n",
              "      <td>Suitable for all ages.</td>\n",
              "      <td>2003</td>\n",
              "      <td>NaN</td>\n",
              "    </tr>\n",
              "    <tr>\n",
              "      <th>499</th>\n",
              "      <td>Beary Tales</td>\n",
              "      <td>TV-G</td>\n",
              "      <td>Suitable for all ages.</td>\n",
              "      <td>2013</td>\n",
              "      <td>NaN</td>\n",
              "    </tr>\n",
              "  </tbody>\n",
              "</table>\n",
              "<p>500 rows × 5 columns</p>\n",
              "</div>"
            ],
            "text/plain": [
              "                         title rating  \\\n",
              "0                 White Chicks  PG-13   \n",
              "1          Lucky Number Slevin      R   \n",
              "2               Grey's Anatomy  TV-14   \n",
              "3                 Prison Break  TV-14   \n",
              "4        How I Met Your Mother  TV-PG   \n",
              "..                         ...    ...   \n",
              "495            Russell Madness     PG   \n",
              "496  Wiener Dog Internationals      G   \n",
              "497                   Pup Star      G   \n",
              "498           Precious Puppies   TV-G   \n",
              "499                Beary Tales   TV-G   \n",
              "\n",
              "                                           ratingLevel  release year  \\\n",
              "0    crude and sexual humor, language and some drug...          2004   \n",
              "1    strong violence, sexual content and adult lang...          2006   \n",
              "2    Parents strongly cautioned. May be unsuitable ...          2016   \n",
              "3    Parents strongly cautioned. May be unsuitable ...          2008   \n",
              "4    Parental guidance suggested. May not be suitab...          2014   \n",
              "..                                                 ...           ...   \n",
              "495                  some rude humor and sports action          2015   \n",
              "496          General Audiences. Suitable for all ages.          2015   \n",
              "497          General Audiences. Suitable for all ages.          2016   \n",
              "498                             Suitable for all ages.          2003   \n",
              "499                             Suitable for all ages.          2013   \n",
              "\n",
              "     user rating score  \n",
              "0                 82.0  \n",
              "1                  NaN  \n",
              "2                 98.0  \n",
              "3                 98.0  \n",
              "4                 94.0  \n",
              "..                 ...  \n",
              "495                NaN  \n",
              "496                NaN  \n",
              "497                NaN  \n",
              "498                NaN  \n",
              "499                NaN  \n",
              "\n",
              "[500 rows x 5 columns]"
            ]
          },
          "execution_count": 272,
          "metadata": {},
          "output_type": "execute_result"
        }
      ],
      "source": [
        "data = data.reset_index(drop=True)\n",
        "data"
      ]
    },
    {
      "cell_type": "markdown",
      "metadata": {
        "id": "5K45orMVgn0S"
      },
      "source": [
        "Сколько рейтинговых групп представлено в данных?"
      ]
    },
    {
      "cell_type": "code",
      "execution_count": 273,
      "metadata": {
        "colab": {
          "base_uri": "https://localhost:8080/"
        },
        "id": "ya6irA3YgoSN",
        "outputId": "95a02529-8557-4ad8-974d-4a6c6fb9819b"
      },
      "outputs": [
        {
          "data": {
            "text/plain": [
              "13"
            ]
          },
          "execution_count": 273,
          "metadata": {},
          "output_type": "execute_result"
        }
      ],
      "source": [
        "data.rating.nunique()"
      ]
    },
    {
      "cell_type": "markdown",
      "metadata": {
        "id": "EvQXQnogU8M0"
      },
      "source": [
        "Какие оценки пользователи ставят чаще? Постройте гистограмму оценок."
      ]
    },
    {
      "cell_type": "code",
      "execution_count": 274,
      "metadata": {
        "colab": {
          "base_uri": "https://localhost:8080/",
          "height": 568
        },
        "id": "uZ7wT-jyU5YC",
        "outputId": "9979bdbc-aae0-4d2a-9f2c-1cafe03692ab"
      },
      "outputs": [
        {
          "data": {
            "text/plain": [
              "[Text(0.5, 0, 'User score'), Text(0, 0.5, 'Number of shows')]"
            ]
          },
          "execution_count": 274,
          "metadata": {},
          "output_type": "execute_result"
        },
        {
          "data": {
            "image/png": "[encoded data removed]",
            "text/plain": [
              "<Figure size 1152x648 with 1 Axes>"
            ]
          },
          "metadata": {},
          "output_type": "display_data"
        }
      ],
      "source": [
        "plt.figure(figsize=(16,9))\n",
        "ax = sns.histplot(data=data, x=\"user rating score\", binwidth=1, kde=True, color='#b20710', alpha=0.85)\n",
        "ax.set(xlabel='User score', ylabel='Number of shows')"
      ]
    },
    {
      "cell_type": "markdown",
      "metadata": {
        "id": "HECqgzrEVF2Y"
      },
      "source": [
        "***Вывод:*** Пользователи более склонны ставить высокие оценки, чем низкие."
      ]
    },
    {
      "cell_type": "markdown",
      "metadata": {
        "id": "hctW4a6lW3Yl"
      },
      "source": [
        "Выведите основную информацию об оценках пользователей: среднее, стандартное отклонение, минимум, максимум, медиана. Отличаются ли медиана и среднее? Могут ли данные характеристики значительно отличаться? Почему?"
      ]
    },
    {
      "cell_type": "code",
      "execution_count": 275,
      "metadata": {},
      "outputs": [
        {
          "data": {
            "text/plain": [
              "count    256.000000\n",
              "mean      81.398438\n",
              "std       12.730904\n",
              "min       55.000000\n",
              "25%       71.000000\n",
              "50%       83.500000\n",
              "75%       93.000000\n",
              "max       99.000000\n",
              "Name: user rating score, dtype: float64"
            ]
          },
          "execution_count": 275,
          "metadata": {},
          "output_type": "execute_result"
        }
      ],
      "source": [
        "data['user rating score'].describe()"
      ]
    },
    {
      "cell_type": "markdown",
      "metadata": {
        "id": "qu6fz54cXAlA"
      },
      "source": [
        "***Ответ:***\\\n",
        "среднее: 81.398438\\\n",
        "стандартное отклонение: 12.730904\\\n",
        "минимум: 55\\\n",
        "максимум: 99\\\n",
        "медиана: 83.5\\\n",
        "Медиана и средняя могут отличаться в зависимости от распределения величины\n",
        "\n",
        "<img src=\"https://upload.wikimedia.org/wikipedia/commons/c/cc/Relationship_between_mean_and_median_under_different_skewness.png\" width=\"60%\">"
      ]
    },
    {
      "cell_type": "markdown",
      "metadata": {
        "id": "o-R-GlguhFVj"
      },
      "source": [
        "В какие годы были запущены шоу, представленные в датасете?"
      ]
    },
    {
      "cell_type": "code",
      "execution_count": 276,
      "metadata": {
        "id": "4s_pPeOthRMd"
      },
      "outputs": [
        {
          "data": {
            "text/plain": [
              "array([2004, 2006, 2016, 2008, 2014, 2013, 2017, 2015, 2011, 2009, 2007,\n",
              "       2012, 2003, 2001, 2010, 1998, 1999, 1978, 2005, 1993, 2002, 1976,\n",
              "       1989, 1996, 1997, 2000, 1994, 1982, 1990, 1940, 1986, 1995, 1991,\n",
              "       1992, 1987], dtype=int64)"
            ]
          },
          "execution_count": 276,
          "metadata": {},
          "output_type": "execute_result"
        }
      ],
      "source": [
        "data['release year'].unique()"
      ]
    },
    {
      "cell_type": "markdown",
      "metadata": {
        "id": "OogBeNIShwr7"
      },
      "source": [
        "Постройте график, показывающий распределение количества запущенных шоу в зависимости от года. Наблюдается ли рост? Есть ли выбросы?"
      ]
    },
    {
      "cell_type": "code",
      "execution_count": 277,
      "metadata": {},
      "outputs": [
        {
          "data": {
            "text/plain": [
              "[Text(0.5, 0, 'Release year'), Text(0, 0.5, 'Number of shows')]"
            ]
          },
          "execution_count": 277,
          "metadata": {},
          "output_type": "execute_result"
        },
        {
          "data": {
            "image/png": "[encoded data removed]",
            "text/plain": [
              "<Figure size 1152x648 with 1 Axes>"
            ]
          },
          "metadata": {},
          "output_type": "display_data"
        }
      ],
      "source": [
        "plt.figure(figsize=(16,9))\n",
        "data_by_year = data.groupby('release year')['title'].count()\n",
        "ax = sns.barplot(x=data_by_year.index, y=data_by_year, palette=['#b20710'])\n",
        "ax.set(xlabel='Release year', ylabel='Number of shows')"
      ]
    },
    {
      "cell_type": "markdown",
      "metadata": {
        "id": "M1FFJmIGhxUZ"
      },
      "source": [
        "Теперь посмотрим на выброс."
      ]
    },
    {
      "cell_type": "code",
      "execution_count": 278,
      "metadata": {
        "id": "v2gEoNjUYUF0"
      },
      "outputs": [
        {
          "data": {
            "text/plain": [
              "[Text(0.5, 0, 'Release year')]"
            ]
          },
          "execution_count": 278,
          "metadata": {},
          "output_type": "execute_result"
        },
        {
          "data": {
            "image/png": "[encoded data removed]",
            "text/plain": [
              "<Figure size 1152x648 with 1 Axes>"
            ]
          },
          "metadata": {},
          "output_type": "display_data"
        }
      ],
      "source": [
        "plt.figure(figsize=(16,9))\n",
        "sns.boxplot(x=data['release year'], palette=['#b20710']).set(xlabel='Release year')"
      ]
    },
    {
      "cell_type": "markdown",
      "metadata": {
        "id": "EXPMEaWNjCA_"
      },
      "source": [
        "***Вывод:*** Наблюдается рост с 2010г.\\\n",
        "Выбросы ~до 1999г."
      ]
    },
    {
      "cell_type": "markdown",
      "metadata": {
        "id": "5amxoyM7NaQL"
      },
      "source": [
        "Сравните среднюю оценку пользователей в 2016 со средней оценкой в 2017. Можно ли сделать вывод, что 2017 год успешнее для Netflix? (\"Успешнее\" значит, что пользователи в среднем ставили более высокие оценки)  \n",
        "Ответить на этот вопрос вам поможет график, который вы построили выше.\n",
        "\n"
      ]
    },
    {
      "cell_type": "code",
      "execution_count": 279,
      "metadata": {
        "id": "DIaeaVLAWgvu"
      },
      "outputs": [
        {
          "data": {
            "text/html": [
              "<div>\n",
              "<style scoped>\n",
              "    .dataframe tbody tr th:only-of-type {\n",
              "        vertical-align: middle;\n",
              "    }\n",
              "\n",
              "    .dataframe tbody tr th {\n",
              "        vertical-align: top;\n",
              "    }\n",
              "\n",
              "    .dataframe thead th {\n",
              "        text-align: right;\n",
              "    }\n",
              "</style>\n",
              "<table border=\"1\" class=\"dataframe\">\n",
              "  <thead>\n",
              "    <tr style=\"text-align: right;\">\n",
              "      <th></th>\n",
              "      <th>user rating score</th>\n",
              "    </tr>\n",
              "    <tr>\n",
              "      <th>release year</th>\n",
              "      <th></th>\n",
              "    </tr>\n",
              "  </thead>\n",
              "  <tbody>\n",
              "    <tr>\n",
              "      <th>2016</th>\n",
              "      <td>84.313953</td>\n",
              "    </tr>\n",
              "    <tr>\n",
              "      <th>2017</th>\n",
              "      <td>88.125000</td>\n",
              "    </tr>\n",
              "  </tbody>\n",
              "</table>\n",
              "</div>"
            ],
            "text/plain": [
              "              user rating score\n",
              "release year                   \n",
              "2016                  84.313953\n",
              "2017                  88.125000"
            ]
          },
          "execution_count": 279,
          "metadata": {},
          "output_type": "execute_result"
        }
      ],
      "source": [
        "data.groupby('release year').mean().loc[[2016, 2017]]"
      ]
    },
    {
      "cell_type": "markdown",
      "metadata": {
        "id": "2YiDfEEWcRXG"
      },
      "source": [
        "***Вывод:*** Средняя оценка в 2017 выше средней оценки в 2016 на 3.8 пункта."
      ]
    },
    {
      "cell_type": "markdown",
      "metadata": {
        "id": "5dG8K8M-jcYZ"
      },
      "source": [
        "Ниже представлены два графика, показывающие распределение шоу по рейтинговым группам. Какой тип графика визуально более интерпретируемый? ([Подсказка](https://sun9-40.userapi.com/c854228/v854228652/c754f/j6z5gMjJy2k.jpg))  \n",
        "Постройте самостоятельно график, который считаете более интерпретируемым. Сделайте вывод."
      ]
    },
    {
      "cell_type": "markdown",
      "metadata": {
        "id": "6am-k3o-pcWC"
      },
      "source": [
        "![Charts](https://pp.userapi.com/c852024/v852024281/1a53b1/jSOsBIhxK3U.jpg)"
      ]
    },
    {
      "cell_type": "code",
      "execution_count": 280,
      "metadata": {
        "id": "SR7y2Wt9uQ4i"
      },
      "outputs": [
        {
          "data": {
            "text/plain": [
              "<AxesSubplot:title={'center':'Show distribution by rating'}, ylabel='Rating'>"
            ]
          },
          "execution_count": 280,
          "metadata": {},
          "output_type": "execute_result"
        },
        {
          "data": {
            "image/png": "[encoded data removed]",
            "text/plain": [
              "<Figure size 1152x648 with 1 Axes>"
            ]
          },
          "metadata": {},
          "output_type": "display_data"
        }
      ],
      "source": [
        "data.groupby('rating')['title'].count().sort_values(ascending=False).plot(kind='pie'\n",
        "                                             ,figsize=(16,9)\n",
        "                                             ,title='Show distribution by rating'\n",
        "                                             ,ylabel='Rating'\n",
        "                                             ,autopct='%1.1f%%'\n",
        "                                             ,pctdistance=0.9)"
      ]
    },
    {
      "cell_type": "markdown",
      "metadata": {
        "id": "QVvsZTwhl9JE"
      },
      "source": [
        "***Вывод:*** Pie chart более интерпретируем, т.к. лучше видно какую долю занимает одна часть."
      ]
    },
    {
      "cell_type": "markdown",
      "metadata": {
        "id": "eWCSRMOse3fv"
      },
      "source": [
        "Теперь вам нужно выбрать любое из представленных шоу и при помощи изученных инструментов составить описательный портрет этого шоу :) Аналитики и data-scientist-ы очень любят все сравнивать, поэтому при составлении описательного портрета рекомендуем вам сравнить выбранное шоу с другими по каким-либо характеристикам. Результаты не забудьте внести в презентацию. При возникновении трудностей обязательно пишите в чат, преподавателю или ассистентам."
      ]
    },
    {
      "cell_type": "markdown",
      "metadata": {},
      "source": [
        "<img src=\"https://m.media-amazon.com/images/M/MV5BZjkzMmU5MjMtODllZS00OTA5LTk2ZTEtNjdhYjZhMDA5ZTRhXkEyXkFqcGdeQXVyOTA3MTMyOTk@._V1_FMjpg_UX1000_.jpg\" width=\"40%\">"
      ]
    },
    {
      "cell_type": "code",
      "execution_count": 281,
      "metadata": {
        "id": "5sEouGVg4D4L"
      },
      "outputs": [
        {
          "data": {
            "text/html": [
              "<div>\n",
              "<style scoped>\n",
              "    .dataframe tbody tr th:only-of-type {\n",
              "        vertical-align: middle;\n",
              "    }\n",
              "\n",
              "    .dataframe tbody tr th {\n",
              "        vertical-align: top;\n",
              "    }\n",
              "\n",
              "    .dataframe thead th {\n",
              "        text-align: right;\n",
              "    }\n",
              "</style>\n",
              "<table border=\"1\" class=\"dataframe\">\n",
              "  <thead>\n",
              "    <tr style=\"text-align: right;\">\n",
              "      <th></th>\n",
              "      <th>title</th>\n",
              "      <th>rating</th>\n",
              "      <th>ratingLevel</th>\n",
              "      <th>release year</th>\n",
              "      <th>user rating score</th>\n",
              "    </tr>\n",
              "  </thead>\n",
              "  <tbody>\n",
              "    <tr>\n",
              "      <th>229</th>\n",
              "      <td>Dexter</td>\n",
              "      <td>TV-MA</td>\n",
              "      <td>For mature audiences.  May not be suitable for...</td>\n",
              "      <td>2013</td>\n",
              "      <td>95.0</td>\n",
              "    </tr>\n",
              "  </tbody>\n",
              "</table>\n",
              "</div>"
            ],
            "text/plain": [
              "      title rating                                        ratingLevel  \\\n",
              "229  Dexter  TV-MA  For mature audiences.  May not be suitable for...   \n",
              "\n",
              "     release year  user rating score  \n",
              "229          2013               95.0  "
            ]
          },
          "execution_count": 281,
          "metadata": {},
          "output_type": "execute_result"
        }
      ],
      "source": [
        "data[data['title'] =='Dexter']"
      ]
    },
    {
      "cell_type": "code",
      "execution_count": 282,
      "metadata": {},
      "outputs": [
        {
          "data": {
            "text/html": [
              "<div>\n",
              "<style scoped>\n",
              "    .dataframe tbody tr th:only-of-type {\n",
              "        vertical-align: middle;\n",
              "    }\n",
              "\n",
              "    .dataframe tbody tr th {\n",
              "        vertical-align: top;\n",
              "    }\n",
              "\n",
              "    .dataframe thead th {\n",
              "        text-align: right;\n",
              "    }\n",
              "</style>\n",
              "<table border=\"1\" class=\"dataframe\">\n",
              "  <thead>\n",
              "    <tr style=\"text-align: right;\">\n",
              "      <th></th>\n",
              "      <th>title</th>\n",
              "      <th>rating</th>\n",
              "      <th>ratingLevel</th>\n",
              "      <th>release year</th>\n",
              "      <th>user rating score</th>\n",
              "    </tr>\n",
              "  </thead>\n",
              "  <tbody>\n",
              "    <tr>\n",
              "      <th>0</th>\n",
              "      <td>White Chicks</td>\n",
              "      <td>PG-13</td>\n",
              "      <td>crude and sexual humor, language and some drug...</td>\n",
              "      <td>2004</td>\n",
              "      <td>82.0</td>\n",
              "    </tr>\n",
              "    <tr>\n",
              "      <th>1</th>\n",
              "      <td>Grey's Anatomy</td>\n",
              "      <td>TV-14</td>\n",
              "      <td>Parents strongly cautioned. May be unsuitable ...</td>\n",
              "      <td>2016</td>\n",
              "      <td>98.0</td>\n",
              "    </tr>\n",
              "    <tr>\n",
              "      <th>2</th>\n",
              "      <td>Prison Break</td>\n",
              "      <td>TV-14</td>\n",
              "      <td>Parents strongly cautioned. May be unsuitable ...</td>\n",
              "      <td>2008</td>\n",
              "      <td>98.0</td>\n",
              "    </tr>\n",
              "    <tr>\n",
              "      <th>3</th>\n",
              "      <td>How I Met Your Mother</td>\n",
              "      <td>TV-PG</td>\n",
              "      <td>Parental guidance suggested. May not be suitab...</td>\n",
              "      <td>2014</td>\n",
              "      <td>94.0</td>\n",
              "    </tr>\n",
              "    <tr>\n",
              "      <th>4</th>\n",
              "      <td>Supernatural</td>\n",
              "      <td>TV-14</td>\n",
              "      <td>Parents strongly cautioned. May be unsuitable ...</td>\n",
              "      <td>2016</td>\n",
              "      <td>95.0</td>\n",
              "    </tr>\n",
              "    <tr>\n",
              "      <th>...</th>\n",
              "      <td>...</td>\n",
              "      <td>...</td>\n",
              "      <td>...</td>\n",
              "      <td>...</td>\n",
              "      <td>...</td>\n",
              "    </tr>\n",
              "    <tr>\n",
              "      <th>251</th>\n",
              "      <td>Blank Check</td>\n",
              "      <td>PG</td>\n",
              "      <td>Parental guidance suggested. May not be suitab...</td>\n",
              "      <td>1994</td>\n",
              "      <td>93.0</td>\n",
              "    </tr>\n",
              "    <tr>\n",
              "      <th>252</th>\n",
              "      <td>Heavyweights</td>\n",
              "      <td>PG</td>\n",
              "      <td>some rude language and pranks</td>\n",
              "      <td>1995</td>\n",
              "      <td>74.0</td>\n",
              "    </tr>\n",
              "    <tr>\n",
              "      <th>253</th>\n",
              "      <td>D2: The Mighty Ducks</td>\n",
              "      <td>PG</td>\n",
              "      <td>some mild language and rough hockey action</td>\n",
              "      <td>1994</td>\n",
              "      <td>70.0</td>\n",
              "    </tr>\n",
              "    <tr>\n",
              "      <th>254</th>\n",
              "      <td>Honey, I Shrunk the Kids</td>\n",
              "      <td>PG</td>\n",
              "      <td>Parental guidance suggested. May not be suitab...</td>\n",
              "      <td>1989</td>\n",
              "      <td>80.0</td>\n",
              "    </tr>\n",
              "    <tr>\n",
              "      <th>255</th>\n",
              "      <td>H2O: Just Add Water</td>\n",
              "      <td>TV-PG</td>\n",
              "      <td>Parental guidance suggested. May not be suitab...</td>\n",
              "      <td>2009</td>\n",
              "      <td>74.0</td>\n",
              "    </tr>\n",
              "  </tbody>\n",
              "</table>\n",
              "<p>256 rows × 5 columns</p>\n",
              "</div>"
            ],
            "text/plain": [
              "                        title rating  \\\n",
              "0                White Chicks  PG-13   \n",
              "1              Grey's Anatomy  TV-14   \n",
              "2                Prison Break  TV-14   \n",
              "3       How I Met Your Mother  TV-PG   \n",
              "4                Supernatural  TV-14   \n",
              "..                        ...    ...   \n",
              "251               Blank Check     PG   \n",
              "252              Heavyweights     PG   \n",
              "253      D2: The Mighty Ducks     PG   \n",
              "254  Honey, I Shrunk the Kids     PG   \n",
              "255       H2O: Just Add Water  TV-PG   \n",
              "\n",
              "                                           ratingLevel  release year  \\\n",
              "0    crude and sexual humor, language and some drug...          2004   \n",
              "1    Parents strongly cautioned. May be unsuitable ...          2016   \n",
              "2    Parents strongly cautioned. May be unsuitable ...          2008   \n",
              "3    Parental guidance suggested. May not be suitab...          2014   \n",
              "4    Parents strongly cautioned. May be unsuitable ...          2016   \n",
              "..                                                 ...           ...   \n",
              "251  Parental guidance suggested. May not be suitab...          1994   \n",
              "252                      some rude language and pranks          1995   \n",
              "253         some mild language and rough hockey action          1994   \n",
              "254  Parental guidance suggested. May not be suitab...          1989   \n",
              "255  Parental guidance suggested. May not be suitab...          2009   \n",
              "\n",
              "     user rating score  \n",
              "0                 82.0  \n",
              "1                 98.0  \n",
              "2                 98.0  \n",
              "3                 94.0  \n",
              "4                 95.0  \n",
              "..                 ...  \n",
              "251               93.0  \n",
              "252               74.0  \n",
              "253               70.0  \n",
              "254               80.0  \n",
              "255               74.0  \n",
              "\n",
              "[256 rows x 5 columns]"
            ]
          },
          "execution_count": 282,
          "metadata": {},
          "output_type": "execute_result"
        }
      ],
      "source": [
        "data_with_score = data.dropna(subset=['user rating score']).reset_index(drop=True)\n",
        "data_with_score"
      ]
    },
    {
      "cell_type": "code",
      "execution_count": 283,
      "metadata": {},
      "outputs": [
        {
          "data": {
            "text/plain": [
              "16.4"
            ]
          },
          "execution_count": 283,
          "metadata": {},
          "output_type": "execute_result"
        }
      ],
      "source": [
        "round(100 * (1 - data['user rating score'].rank(pct=True).loc[229]), 1)"
      ]
    },
    {
      "cell_type": "code",
      "execution_count": 284,
      "metadata": {},
      "outputs": [
        {
          "data": {
            "text/plain": [
              "[Text(0.5, 0, 'User score'), Text(0, 0.5, 'Number of shows')]"
            ]
          },
          "execution_count": 284,
          "metadata": {},
          "output_type": "execute_result"
        },
        {
          "data": {
            "image/png": "[encoded data removed]",
            "text/plain": [
              "<Figure size 1152x648 with 1 Axes>"
            ]
          },
          "metadata": {},
          "output_type": "display_data"
        }
      ],
      "source": [
        "plt.figure(figsize=(16,9))\n",
        "ax = sns.histplot(data=data_with_score, x='user rating score', binwidth=1, kde=True, color='#b20710', alpha=0.85)\n",
        "ax.axvline(x=95, linewidth=4, color='#221f1f')\n",
        "ax.set(xlabel='User score', ylabel='Number of shows')"
      ]
    },
    {
      "cell_type": "code",
      "execution_count": 285,
      "metadata": {},
      "outputs": [
        {
          "data": {
            "text/plain": [
              "22.5"
            ]
          },
          "execution_count": 285,
          "metadata": {},
          "output_type": "execute_result"
        }
      ],
      "source": [
        "round(100 * (1 - data[data['rating'] =='TV-MA']['user rating score'].rank(pct=True).loc[229]), 1)"
      ]
    },
    {
      "cell_type": "code",
      "execution_count": 286,
      "metadata": {},
      "outputs": [
        {
          "data": {
            "image/png": "[encoded data removed]",
            "text/plain": [
              "<Figure size 1152x648 with 1 Axes>"
            ]
          },
          "metadata": {},
          "output_type": "display_data"
        }
      ],
      "source": [
        "plt.figure(figsize=(16,9))\n",
        "ax = sns.barplot(data=data_with_score[data_with_score['rating'] =='TV-MA'].sort_values(by='user rating score',\n",
        "                                                                                       ascending=False), y='title', x='user rating score', orient='h', palette=['#221f1f'])\n",
        "ax.set(ylabel='Title', xlabel='User score')\n",
        "ax.patches[8].set_color('#b20710')"
      ]
    },
    {
      "cell_type": "code",
      "execution_count": 287,
      "metadata": {},
      "outputs": [
        {
          "data": {
            "text/plain": [
              "9.1"
            ]
          },
          "execution_count": 287,
          "metadata": {},
          "output_type": "execute_result"
        }
      ],
      "source": [
        "round(100 * (1 - data[data['release year'] == 2013]['user rating score'].rank(pct=True).loc[229]), 1)"
      ]
    },
    {
      "cell_type": "code",
      "execution_count": 288,
      "metadata": {},
      "outputs": [
        {
          "data": {
            "image/png": "[encoded data removed]",
            "text/plain": [
              "<Figure size 1152x648 with 1 Axes>"
            ]
          },
          "metadata": {},
          "output_type": "display_data"
        }
      ],
      "source": [
        "plt.figure(figsize=(16,9))\n",
        "ax = sns.barplot(data=data_with_score[data_with_score['release year'] == 2013].sort_values(by='user rating score',\n",
        "                                                                                           ascending=False), y='title', x='user rating score', orient='h', palette=['#221f1f'])\n",
        "ax.set(ylabel='Title', xlabel='User score')\n",
        "ax.patches[1].set_color('#b20710')\n"
      ]
    },
    {
      "cell_type": "markdown",
      "metadata": {
        "id": "VssCIoTX4D4L"
      },
      "source": [
        "***Вывод:*** Выберем шоу Dexter.\\\n",
        "Dexter по оценке пользователей входит в:\n",
        "- топ 16.4% среди всех шоу\n",
        "- топ 22.5% среди шоу с рейтингом TV-MA\n",
        "- топ 9.1% среди шоу вышедших в 2013 году"
      ]
    }
  ],
  "metadata": {
    "colab": {
      "collapsed_sections": [],
      "provenance": []
    },
    "kernelspec": {
      "display_name": "Python 3.10.5 64-bit",
      "language": "python",
      "name": "python3"
    },
    "language_info": {
      "codemirror_mode": {
        "name": "ipython",
        "version": 3
      },
      "file_extension": ".py",
      "mimetype": "text/x-python",
      "name": "python",
      "nbconvert_exporter": "python",
      "pygments_lexer": "ipython3",
      "version": "3.10.5"
    },
    "vscode": {
      "interpreter": {
        "hash": "c814f020ca40bd9580eb35142fd8f4f123522e545ffe0e2f57f22b8f89ccd43d"
      }
    }
  },
  "nbformat": 4,
  "nbformat_minor": 0
}
