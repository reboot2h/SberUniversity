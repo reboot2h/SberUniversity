{
  "cells": [
    {
      "cell_type": "markdown",
      "metadata": {
        "id": "r_lVVaJl2Ncb"
      },
      "source": [
        "# Регрессия"
      ]
    },
    {
      "cell_type": "markdown",
      "metadata": {
        "id": "3pECYqXD2VjG"
      },
      "source": [
        "С 1ого октября отменяется НДС на бриллианты, теперь они становятся новым инвестиционным инструментом. Давайте сделаем модель ценообразования для них.\n",
        "\n",
        "Скачайте датасет diamonds.csv\n",
        "\n",
        "В нем представлены характеристики бриллиантов и их цены с сайта jamesallen (B2C площадка) с 2022-07-01\n",
        "\n",
        "**Описание полей**\n",
        "\n",
        "\n",
        "* fluor - флуорисценуия (свойство камня светиться в лучах ультр)\n",
        "* symmetry - показатель симметричности\n",
        "* platform - название платформы, где был размещен камень\n",
        "* quality_group - составной показатель из cut polish symmetry\n",
        "* size_group - каратно весовая группа\n",
        "* big_size_group - каратно-весовая группа\n",
        "* shape - форма\n",
        "* color - цвет\n",
        "* clarity - чистота\n",
        "* cut - качество огранки (может быть только у круглых камней)\n",
        "* polish - полировка\n",
        "* id - номер камня\n",
        "* date - дата\n",
        "* price - цена\n",
        "* carat - кол-во карат\n",
        "* tablepercent - размер площадки по отношению ширине\n",
        "* price_per_carat - цена за карат\n",
        "* z - длина (diameter)\n",
        "* x - ширина\n",
        "* depth_perc - отношение высоты к ширине\n",
        "* y - высота\n",
        "\n"
      ]
    },
    {
      "cell_type": "code",
      "execution_count": 141,
      "metadata": {
        "id": "iOnp-6t565z8"
      },
      "outputs": [],
      "source": [
        "import pandas as pd\n",
        "import numpy as np"
      ]
    },
    {
      "cell_type": "code",
      "execution_count": 142,
      "metadata": {
        "colab": {
          "base_uri": "https://localhost:8080/"
        },
        "id": "C4f2-y_7bfv8",
        "outputId": "5792d6b6-7adb-4865-e028-eebb47d7d609"
      },
      "outputs": [],
      "source": [
        "# from google.colab import drive\n",
        "# drive.mount('/content/drive')\n",
        "\n",
        "# path = 'drive/MyDrive/'"
      ]
    },
    {
      "cell_type": "code",
      "execution_count": 143,
      "metadata": {
        "id": "iG7MP6VZ2UZN"
      },
      "outputs": [],
      "source": [
        "# df = pd.read_csv(path + 'diamonds.csv', index_col=0)"
      ]
    },
    {
      "cell_type": "code",
      "execution_count": 144,
      "metadata": {},
      "outputs": [],
      "source": [
        "df = pd.read_csv('diamonds.csv', index_col=0)"
      ]
    },
    {
      "cell_type": "markdown",
      "metadata": {
        "id": "PD8Sv2_ktIqx"
      },
      "source": [
        "Хоти предсказать price_per_carat"
      ]
    },
    {
      "cell_type": "markdown",
      "metadata": {
        "id": "HEBGHQkD7DWw"
      },
      "source": [
        "## Задание 1: Очистка\n",
        "\n",
        "Не все камни успевают продаться за один месяц, поэтому в таблице есть повторы. Объедините данные по одному камню: подумайте, как лучше это сделать, какую цену брать.\n",
        "\n",
        "Попробуйте найти аномалии: вдруг цена на некоторые камни сильно меняется (то есть продавец сам не знает, по какой цене их продавать). Также убедитесь, что остальные параметры камня не меняются."
      ]
    },
    {
      "cell_type": "code",
      "execution_count": 145,
      "metadata": {
        "id": "uL1lalBa7AVS"
      },
      "outputs": [
        {
          "name": "stderr",
          "output_type": "stream",
          "text": [
            "C:\\Users\\ogloc\\AppData\\Local\\Temp\\ipykernel_6928\\403455913.py:10: FutureWarning: Indexing with multiple keys (implicitly converted to a tuple of keys) will be deprecated, use a list instead.\n",
            "  stat = df_three.groupby('id')['price', 'carat', 'price_per_carat', 'z', 'x', 'depth_perc', 'y'].agg(np.std) # Посчитайте дстандартное отклонение по по нескольким полям,\n"
          ]
        }
      ],
      "source": [
        "id_stat = df.groupby(by='id')['carat'].count().to_frame() #Посчитайте статистику по кол-ву камней\n",
        "\n",
        "# разделите выборку на две части\n",
        "id_count_1 = id_stat[id_stat['carat'] == 1]\n",
        "df_one = df.query('id in @id_count_1.index')  # те камни, которые встречались один раз\n",
        "id_count_2_3 = id_stat[(id_stat['carat'] == 2) + (id_stat['carat'] == 3)]\n",
        "df_three = df.query('id in @id_count_2_3.index') # те камни, которые встречались 2 или 3 раза\n",
        "\n",
        "\n",
        "stat = df_three.groupby('id')['price', 'carat', 'price_per_carat', 'z', 'x', 'depth_perc', 'y'].agg(np.std) # Посчитайте дстандартное отклонение по по нескольким полям,\n",
        "#  подумайте где оно должно равняться 0, а где меняться в каких-то разумных пределах\n",
        "anomaly_ids = list(stat[(stat['carat'] > 0) + (stat['z'] > 0) + (stat['x'] > 0) + (stat['depth_perc'] > 0) + (stat['y'] > 0)].index)\n",
        "iqr = stat['price_per_carat'].quantile(0.75) - stat['price_per_carat'].quantile(0.25)\n",
        "stat[stat['price_per_carat'] > 1.5 * stat['price_per_carat'].quantile(0.75)].index\n",
        "anomaly_ids.append(stat[stat['price_per_carat'] > 1.5 * stat['price_per_carat'].quantile(0.75)].index)\n",
        "\n",
        "# Удалите аномальные наблюдения\n",
        "df_three = df_three.query('id not in @anomaly_ids').sort_values(by=['id','date'])\n",
        "\n",
        "df_three = df_three.groupby('id').agg('last').reset_index() #тепреь в качестве цены возьмем последнее значение по времени\n",
        "\n",
        "df = pd.concat([df_one, df_three]).reset_index(drop=True) # соединяем результаты"
      ]
    },
    {
      "cell_type": "markdown",
      "metadata": {
        "id": "NnsNVat_CIPB"
      },
      "source": [
        "Цены на бриллианты достаточно сильно меняются, попробуйте вычислить коэффициент инфляции и привести цены к последнему месяцу. Стоит учесть, что цены на все бриллианты не изменяются синхронно, то есть изменение в определенных группах может быть разным.\n",
        "\n",
        "Определите эти группы и рассчитайте коэффициенты инфляции для каждой из них. Подправьте цены на эти коэффициенты и создайте новую переменную."
      ]
    },
    {
      "cell_type": "code",
      "execution_count": 146,
      "metadata": {
        "id": "nDKdDba4pA7M"
      },
      "outputs": [],
      "source": [
        "categories = ['clarity', 'polish'] #определите по каким группам отпределять инфляцию (к примеру можно добавить каратную группу)\n",
        "\n",
        "df_index = df.groupby(['date'] + categories)[['price_per_carat']]\\\n",
        "                                                                .mean()\\\n",
        "                                                                    .reset_index() # индекс цен\n",
        "\n",
        "date_max = df_index.date.max()\n",
        "\n",
        "\n",
        "df_index = df_index.merge(df_index.query('date == @date_max')[categories + ['price_per_carat']]\\\n",
        "                          .rename(columns={'price_per_carat': 'price_per_carat_max'}), \n",
        "                          on=categories, how='outer') # сопоставляем группы с максимальной датой\n",
        "\n",
        "df_index['inflation'] = df_index['price_per_carat_max'] / df_index.price_per_carat # вычисляем инфляцию\n",
        "\n",
        "df_with_inf = df.merge(df_index[['date'] + categories + ['inflation']], \n",
        "                        on=['date'] + categories, how='left') # соединяем все в одной таблице"
      ]
    },
    {
      "cell_type": "markdown",
      "metadata": {
        "id": "xuPhXT9aESGs"
      },
      "source": [
        "## Задание 2: Модель"
      ]
    },
    {
      "cell_type": "markdown",
      "metadata": {
        "id": "v3OgAHMiExrW"
      },
      "source": [
        "Определите функцию потерь (MSE или MAE) и аргументируйте выбор.\n",
        "Попробуйте сделать baseline.\n",
        "Используйте LableEncoder для категориальных фичей и постройте линейную модель."
      ]
    },
    {
      "cell_type": "code",
      "execution_count": 147,
      "metadata": {
        "id": "BEvWYr1uEKJU"
      },
      "outputs": [],
      "source": [
        "from sklearn.model_selection import train_test_split\n",
        "from sklearn.preprocessing import LabelEncoder\n",
        "from sklearn.metrics import mean_absolute_percentage_error\n",
        "\n",
        "\n",
        "X = df.drop(columns=[\"price\", \"price_per_carat\", \"platform\"])\n",
        "y = df[\"price\"]\n",
        "\n",
        "le = LabelEncoder()\n",
        "X['fluor'] = le.fit_transform(X['fluor'])\n",
        "X['symmetry'] = le.fit_transform(X['symmetry'])\n",
        "X['shape'] = le.fit_transform(X['shape'])\n",
        "X['color'] = le.fit_transform(X['color'])\n",
        "X['clarity'] = le.fit_transform(X['clarity'])\n",
        "X['cut'] = le.fit_transform(X['cut'])\n",
        "X['polish'] = le.fit_transform(X['polish'])\n",
        "\n",
        "X_train, X_valid, y_train, y_valid = train_test_split(X, y, test_size=0.2, random_state=13)"
      ]
    },
    {
      "cell_type": "code",
      "execution_count": 148,
      "metadata": {},
      "outputs": [
        {
          "name": "stdout",
          "output_type": "stream",
          "text": [
            "0.6973341566129154\n"
          ]
        }
      ],
      "source": [
        "from sklearn.linear_model import LinearRegression\n",
        "\n",
        "lin_reg = LinearRegression()\n",
        "\n",
        "lin_reg.fit(X_train, y_train)\n",
        "y_pred = lin_reg.predict(X_valid)\n",
        "print(mean_absolute_percentage_error(y_valid, y_pred))"
      ]
    },
    {
      "cell_type": "markdown",
      "metadata": {
        "id": "Z9kiKhHuFDUD"
      },
      "source": [
        "Теперь попробуйте OHE или TargetEncoder (сравните их).\n",
        "\n",
        "Нормализуйте данные.\n",
        "\n",
        "Поработайте с пропусками (обратите внимание на то, что у fluor возможен пропуск значения, а возможно отсутствие флуоресценции)\n",
        "\n",
        "Покажите, насколько получилось улучшить результат."
      ]
    },
    {
      "cell_type": "code",
      "execution_count": 149,
      "metadata": {
        "id": "LeLrnXuepjjb"
      },
      "outputs": [],
      "source": [
        "#!pip install category_encoders"
      ]
    },
    {
      "cell_type": "code",
      "execution_count": 150,
      "metadata": {
        "id": "becHgg71Iria"
      },
      "outputs": [
        {
          "name": "stderr",
          "output_type": "stream",
          "text": [
            "c:\\Users\\ogloc\\AppData\\Local\\Programs\\Python\\Python310\\lib\\site-packages\\sklearn\\utils\\deprecation.py:87: FutureWarning: Function get_feature_names is deprecated; get_feature_names is deprecated in 1.0 and will be removed in 1.2. Please use get_feature_names_out instead.\n",
            "  warnings.warn(msg, category=FutureWarning)\n"
          ]
        }
      ],
      "source": [
        "from sklearn.preprocessing import OneHotEncoder\n",
        "from category_encoders import TargetEncoder\n",
        "from sklearn.preprocessing import StandardScaler\n",
        "\n",
        "from typing import Tuple, List\n",
        "\n",
        "\n",
        "def OHE(df: pd.DataFrame, columns: List[str]) -> Tuple[pd.DataFrame, List[str]]:\n",
        "    index = df.index\n",
        "    one = OneHotEncoder(sparse=False, categories='auto')\n",
        "    ohe = one.fit_transform(df[columns])\n",
        "    col_names = one.get_feature_names(input_features = columns)\n",
        "    df = df.drop(columns, axis=1)\n",
        "    df = df.reset_index(drop=True)\n",
        "    df = pd.concat([df, pd.DataFrame(ohe, columns=col_names)], axis = 1)\n",
        "    df = df.set_index(index)\n",
        "    return (df, col_names)\n",
        "\n",
        "scaler = StandardScaler() # Помните, что на тесте делаем только transform\n",
        "\n",
        "X = df.drop(columns=[\"price\", \"price_per_carat\", \"platform\"])\n",
        "y = df[\"price\"]\n",
        "\n",
        "X.fluor.fillna('NONE', inplace=True)\n",
        "X = X.fillna(value=np.nan)\n",
        "\n",
        "cat_features = X.columns[X.dtypes == object]\n",
        "X, cat_col = OHE(X, cat_features)\n",
        "\n",
        "X_train, X_valid, y_train, y_valid = train_test_split(X, y, test_size=0.2, random_state=13)\n",
        "\n",
        "scaler.fit(X_train, y_train)\n",
        "X_train = pd.DataFrame(scaler.transform(X_train), index=X_train.index, columns=X_train.columns)\n",
        "X_valid = pd.DataFrame(scaler.transform(X_valid), index=X_valid.index, columns=X_valid.columns)"
      ]
    },
    {
      "cell_type": "code",
      "execution_count": 151,
      "metadata": {},
      "outputs": [
        {
          "name": "stdout",
          "output_type": "stream",
          "text": [
            "0.5570493609380666\n"
          ]
        }
      ],
      "source": [
        "lin_reg = LinearRegression()\n",
        "\n",
        "lin_reg.fit(X_train, y_train)\n",
        "y_pred = lin_reg.predict(X_valid)\n",
        "print(mean_absolute_percentage_error(y_valid, y_pred))"
      ]
    },
    {
      "cell_type": "markdown",
      "metadata": {},
      "source": [
        "Mean absolute percentage error снизился с 0.6973341566129154 до 0.5570493609380666"
      ]
    },
    {
      "cell_type": "markdown",
      "metadata": {
        "id": "tnJUqYqWoqgk"
      },
      "source": [
        "Сравните с KNN"
      ]
    },
    {
      "cell_type": "code",
      "execution_count": 152,
      "metadata": {
        "id": "bhKgkdw5ou4A"
      },
      "outputs": [
        {
          "name": "stdout",
          "output_type": "stream",
          "text": [
            "0.19654745365001258\n"
          ]
        }
      ],
      "source": [
        "from sklearn.neighbors import KNeighborsRegressor\n",
        "\n",
        "knn_model = KNeighborsRegressor(n_neighbors = 3)\n",
        "knn_model.fit(X_train, y_train)\n",
        "y_pred = knn_model.predict(X_valid)\n",
        "print(mean_absolute_percentage_error(y_valid, y_pred))"
      ]
    },
    {
      "cell_type": "markdown",
      "metadata": {},
      "source": [
        "Mean absolute percentage error у KNN = 0.19654745365001258"
      ]
    },
    {
      "cell_type": "markdown",
      "metadata": {
        "id": "fLAsZpEeIsyk"
      },
      "source": [
        "# Классификация"
      ]
    },
    {
      "cell_type": "markdown",
      "metadata": {
        "id": "exzgWs8TGVwz"
      },
      "source": [
        "Загрузите датасет bodyPerformance\n",
        "\n",
        "Описание:\n",
        "\n",
        "https://www.kaggle.com/datasets/kukuroo3/body-performance-data"
      ]
    },
    {
      "cell_type": "code",
      "execution_count": 157,
      "metadata": {
        "colab": {
          "base_uri": "https://localhost:8080/"
        },
        "id": "HiRlpeObIw30",
        "outputId": "56c8bb8e-4fbc-471f-9ca4-e8ed0978abd6"
      },
      "outputs": [],
      "source": [
        "# from google.colab import drive\n",
        "# drive.mount('/content/drive')\n",
        "\n",
        "# path = 'drive/MyDrive/'"
      ]
    },
    {
      "cell_type": "code",
      "execution_count": 158,
      "metadata": {
        "id": "8icMo8BR8eJL"
      },
      "outputs": [
        {
          "data": {
            "text/html": [
              "<div>\n",
              "<style scoped>\n",
              "    .dataframe tbody tr th:only-of-type {\n",
              "        vertical-align: middle;\n",
              "    }\n",
              "\n",
              "    .dataframe tbody tr th {\n",
              "        vertical-align: top;\n",
              "    }\n",
              "\n",
              "    .dataframe thead th {\n",
              "        text-align: right;\n",
              "    }\n",
              "</style>\n",
              "<table border=\"1\" class=\"dataframe\">\n",
              "  <thead>\n",
              "    <tr style=\"text-align: right;\">\n",
              "      <th></th>\n",
              "      <th>age</th>\n",
              "      <th>gender</th>\n",
              "      <th>height_cm</th>\n",
              "      <th>weight_kg</th>\n",
              "      <th>body fat_%</th>\n",
              "      <th>diastolic</th>\n",
              "      <th>systolic</th>\n",
              "      <th>gripForce</th>\n",
              "      <th>sit and bend forward_cm</th>\n",
              "      <th>sit-ups counts</th>\n",
              "      <th>broad jump_cm</th>\n",
              "      <th>class</th>\n",
              "    </tr>\n",
              "  </thead>\n",
              "  <tbody>\n",
              "    <tr>\n",
              "      <th>0</th>\n",
              "      <td>27.0</td>\n",
              "      <td>M</td>\n",
              "      <td>172.3</td>\n",
              "      <td>75.24</td>\n",
              "      <td>21.3</td>\n",
              "      <td>80.0</td>\n",
              "      <td>130.0</td>\n",
              "      <td>54.9</td>\n",
              "      <td>18.4</td>\n",
              "      <td>60.0</td>\n",
              "      <td>217.0</td>\n",
              "      <td>C</td>\n",
              "    </tr>\n",
              "    <tr>\n",
              "      <th>1</th>\n",
              "      <td>25.0</td>\n",
              "      <td>M</td>\n",
              "      <td>165.0</td>\n",
              "      <td>55.80</td>\n",
              "      <td>15.7</td>\n",
              "      <td>77.0</td>\n",
              "      <td>126.0</td>\n",
              "      <td>36.4</td>\n",
              "      <td>16.3</td>\n",
              "      <td>53.0</td>\n",
              "      <td>229.0</td>\n",
              "      <td>A</td>\n",
              "    </tr>\n",
              "    <tr>\n",
              "      <th>2</th>\n",
              "      <td>31.0</td>\n",
              "      <td>M</td>\n",
              "      <td>179.6</td>\n",
              "      <td>78.00</td>\n",
              "      <td>20.1</td>\n",
              "      <td>92.0</td>\n",
              "      <td>152.0</td>\n",
              "      <td>44.8</td>\n",
              "      <td>12.0</td>\n",
              "      <td>49.0</td>\n",
              "      <td>181.0</td>\n",
              "      <td>C</td>\n",
              "    </tr>\n",
              "    <tr>\n",
              "      <th>3</th>\n",
              "      <td>32.0</td>\n",
              "      <td>M</td>\n",
              "      <td>174.5</td>\n",
              "      <td>71.10</td>\n",
              "      <td>18.4</td>\n",
              "      <td>76.0</td>\n",
              "      <td>147.0</td>\n",
              "      <td>41.4</td>\n",
              "      <td>15.2</td>\n",
              "      <td>53.0</td>\n",
              "      <td>219.0</td>\n",
              "      <td>B</td>\n",
              "    </tr>\n",
              "    <tr>\n",
              "      <th>4</th>\n",
              "      <td>28.0</td>\n",
              "      <td>M</td>\n",
              "      <td>173.8</td>\n",
              "      <td>67.70</td>\n",
              "      <td>17.1</td>\n",
              "      <td>70.0</td>\n",
              "      <td>127.0</td>\n",
              "      <td>43.5</td>\n",
              "      <td>27.1</td>\n",
              "      <td>45.0</td>\n",
              "      <td>217.0</td>\n",
              "      <td>B</td>\n",
              "    </tr>\n",
              "    <tr>\n",
              "      <th>...</th>\n",
              "      <td>...</td>\n",
              "      <td>...</td>\n",
              "      <td>...</td>\n",
              "      <td>...</td>\n",
              "      <td>...</td>\n",
              "      <td>...</td>\n",
              "      <td>...</td>\n",
              "      <td>...</td>\n",
              "      <td>...</td>\n",
              "      <td>...</td>\n",
              "      <td>...</td>\n",
              "      <td>...</td>\n",
              "    </tr>\n",
              "    <tr>\n",
              "      <th>13388</th>\n",
              "      <td>25.0</td>\n",
              "      <td>M</td>\n",
              "      <td>172.1</td>\n",
              "      <td>71.80</td>\n",
              "      <td>16.2</td>\n",
              "      <td>74.0</td>\n",
              "      <td>141.0</td>\n",
              "      <td>35.8</td>\n",
              "      <td>17.4</td>\n",
              "      <td>47.0</td>\n",
              "      <td>198.0</td>\n",
              "      <td>C</td>\n",
              "    </tr>\n",
              "    <tr>\n",
              "      <th>13389</th>\n",
              "      <td>21.0</td>\n",
              "      <td>M</td>\n",
              "      <td>179.7</td>\n",
              "      <td>63.90</td>\n",
              "      <td>12.1</td>\n",
              "      <td>74.0</td>\n",
              "      <td>128.0</td>\n",
              "      <td>33.0</td>\n",
              "      <td>1.1</td>\n",
              "      <td>48.0</td>\n",
              "      <td>167.0</td>\n",
              "      <td>D</td>\n",
              "    </tr>\n",
              "    <tr>\n",
              "      <th>13390</th>\n",
              "      <td>39.0</td>\n",
              "      <td>M</td>\n",
              "      <td>177.2</td>\n",
              "      <td>80.50</td>\n",
              "      <td>20.1</td>\n",
              "      <td>78.0</td>\n",
              "      <td>132.0</td>\n",
              "      <td>63.5</td>\n",
              "      <td>16.4</td>\n",
              "      <td>45.0</td>\n",
              "      <td>229.0</td>\n",
              "      <td>A</td>\n",
              "    </tr>\n",
              "    <tr>\n",
              "      <th>13391</th>\n",
              "      <td>64.0</td>\n",
              "      <td>F</td>\n",
              "      <td>146.1</td>\n",
              "      <td>57.70</td>\n",
              "      <td>40.4</td>\n",
              "      <td>68.0</td>\n",
              "      <td>121.0</td>\n",
              "      <td>19.3</td>\n",
              "      <td>9.2</td>\n",
              "      <td>0.0</td>\n",
              "      <td>75.0</td>\n",
              "      <td>D</td>\n",
              "    </tr>\n",
              "    <tr>\n",
              "      <th>13392</th>\n",
              "      <td>34.0</td>\n",
              "      <td>M</td>\n",
              "      <td>164.0</td>\n",
              "      <td>66.10</td>\n",
              "      <td>19.5</td>\n",
              "      <td>82.0</td>\n",
              "      <td>150.0</td>\n",
              "      <td>35.9</td>\n",
              "      <td>7.1</td>\n",
              "      <td>51.0</td>\n",
              "      <td>180.0</td>\n",
              "      <td>C</td>\n",
              "    </tr>\n",
              "  </tbody>\n",
              "</table>\n",
              "<p>13393 rows × 12 columns</p>\n",
              "</div>"
            ],
            "text/plain": [
              "        age gender  height_cm  weight_kg  body fat_%  diastolic  systolic  \\\n",
              "0      27.0      M      172.3      75.24        21.3       80.0     130.0   \n",
              "1      25.0      M      165.0      55.80        15.7       77.0     126.0   \n",
              "2      31.0      M      179.6      78.00        20.1       92.0     152.0   \n",
              "3      32.0      M      174.5      71.10        18.4       76.0     147.0   \n",
              "4      28.0      M      173.8      67.70        17.1       70.0     127.0   \n",
              "...     ...    ...        ...        ...         ...        ...       ...   \n",
              "13388  25.0      M      172.1      71.80        16.2       74.0     141.0   \n",
              "13389  21.0      M      179.7      63.90        12.1       74.0     128.0   \n",
              "13390  39.0      M      177.2      80.50        20.1       78.0     132.0   \n",
              "13391  64.0      F      146.1      57.70        40.4       68.0     121.0   \n",
              "13392  34.0      M      164.0      66.10        19.5       82.0     150.0   \n",
              "\n",
              "       gripForce  sit and bend forward_cm  sit-ups counts  broad jump_cm class  \n",
              "0           54.9                     18.4            60.0          217.0     C  \n",
              "1           36.4                     16.3            53.0          229.0     A  \n",
              "2           44.8                     12.0            49.0          181.0     C  \n",
              "3           41.4                     15.2            53.0          219.0     B  \n",
              "4           43.5                     27.1            45.0          217.0     B  \n",
              "...          ...                      ...             ...            ...   ...  \n",
              "13388       35.8                     17.4            47.0          198.0     C  \n",
              "13389       33.0                      1.1            48.0          167.0     D  \n",
              "13390       63.5                     16.4            45.0          229.0     A  \n",
              "13391       19.3                      9.2             0.0           75.0     D  \n",
              "13392       35.9                      7.1            51.0          180.0     C  \n",
              "\n",
              "[13393 rows x 12 columns]"
            ]
          },
          "execution_count": 158,
          "metadata": {},
          "output_type": "execute_result"
        }
      ],
      "source": [
        "df = pd.read_csv('bodyPerformance.csv') #укажите свой путь\n",
        "df"
      ]
    },
    {
      "cell_type": "markdown",
      "metadata": {
        "id": "mIT8KyvrGFI7"
      },
      "source": [
        "## Задание 1: Определение гендера"
      ]
    },
    {
      "cell_type": "markdown",
      "metadata": {
        "id": "P7hR4HE2GOjH"
      },
      "source": [
        "Постройте модель, которая будет определять гендер."
      ]
    },
    {
      "cell_type": "markdown",
      "metadata": {
        "id": "aAQJ1WhfGhQf"
      },
      "source": [
        "Для этого определите две метрики качества, на которые вы будете смотреть. Аргументируйте свой выбор.\n",
        "\n",
        "После чего преобразуйте категориальные переменные и постройте модель бинарной классификации на основе линейного классификатора и сравните с KNN.\n",
        "\n",
        "P.S.: не забудте про нормализацию."
      ]
    },
    {
      "cell_type": "code",
      "execution_count": 159,
      "metadata": {},
      "outputs": [
        {
          "data": {
            "text/plain": [
              "M    8467\n",
              "F    4926\n",
              "Name: gender, dtype: int64"
            ]
          },
          "execution_count": 159,
          "metadata": {},
          "output_type": "execute_result"
        }
      ],
      "source": [
        "df.gender.value_counts()"
      ]
    },
    {
      "cell_type": "markdown",
      "metadata": {},
      "source": [
        "Распределение гендеров немного несбалансированно\\\n",
        "будем использовать precision и recall "
      ]
    },
    {
      "cell_type": "code",
      "execution_count": 171,
      "metadata": {
        "id": "Mhj3I_MuBbFy"
      },
      "outputs": [
        {
          "name": "stdout",
          "output_type": "stream",
          "text": [
            "precision = 0.9918272037361354\n",
            "recall = 0.9929865575686733\n"
          ]
        },
        {
          "name": "stderr",
          "output_type": "stream",
          "text": [
            "c:\\Users\\ogloc\\AppData\\Local\\Programs\\Python\\Python310\\lib\\site-packages\\sklearn\\utils\\deprecation.py:87: FutureWarning: Function get_feature_names is deprecated; get_feature_names is deprecated in 1.0 and will be removed in 1.2. Please use get_feature_names_out instead.\n",
            "  warnings.warn(msg, category=FutureWarning)\n"
          ]
        }
      ],
      "source": [
        "from sklearn.neighbors import KNeighborsClassifier\n",
        "from sklearn.linear_model import LogisticRegression\n",
        "from sklearn import metrics\n",
        "\n",
        "X = df.drop(columns=[\"gender\"])\n",
        "y = df[\"gender\"]\n",
        "\n",
        "label_to_index = {\n",
        "    'F': 0,\n",
        "    'M': 1\n",
        "}\n",
        "y = np.array([label_to_index[i] for i in y])\n",
        "\n",
        "cat_features = X.columns[X.dtypes == object]\n",
        "X, cat_col = OHE(X, cat_features)\n",
        "\n",
        "X_train, X_valid, y_train, y_valid = train_test_split(X, y, test_size=0.2, random_state=13)\n",
        "\n",
        "scaler = StandardScaler()\n",
        "\n",
        "scaler.fit(X_train, y_train)\n",
        "X_train = pd.DataFrame(scaler.transform(X_train), index=X_train.index, columns=X_train.columns)\n",
        "X_valid = pd.DataFrame(scaler.transform(X_valid), index=X_valid.index, columns=X_valid.columns)\n",
        "\n",
        "log_reg = LogisticRegression()\n",
        "\n",
        "log_reg.fit(X_train, y_train)\n",
        "y_pred = log_reg.predict(X_valid)\n",
        "print('precision =', metrics.precision_score(y_valid, y_pred))\n",
        "print('recall =', metrics.recall_score(y_valid, y_pred))"
      ]
    },
    {
      "cell_type": "code",
      "execution_count": 173,
      "metadata": {},
      "outputs": [
        {
          "name": "stdout",
          "output_type": "stream",
          "text": [
            "precision = 0.9912383177570093\n",
            "recall = 0.9918176504967855\n"
          ]
        }
      ],
      "source": [
        "knn_model = KNeighborsClassifier(n_neighbors = 3)\n",
        "knn_model.fit(X_train, y_train)\n",
        "y_pred = knn_model.predict(X_valid)\n",
        "print('precision =', metrics.precision_score(y_valid, y_pred))\n",
        "print('recall =', metrics.recall_score(y_valid, y_pred))"
      ]
    },
    {
      "cell_type": "markdown",
      "metadata": {},
      "source": [
        "Метрики линейного классификатора и kNN почти идентичные"
      ]
    },
    {
      "cell_type": "markdown",
      "metadata": {
        "id": "9m0SK6JzKHof"
      },
      "source": [
        "## Задание 2: Определение класса"
      ]
    },
    {
      "cell_type": "markdown",
      "metadata": {
        "id": "s5Hge2C2JSxG"
      },
      "source": [
        "Теперь опробуем построить модель, которая будет предсказывать class физической формы.\n",
        "\n",
        "Для этого определите метрики качества для задачи мультиклассификации (аргументируйте выбор).\n",
        "\n",
        "Постройте модель мультиклассовой классификации на основе линейного классификатора и сравните с KNN."
      ]
    },
    {
      "cell_type": "code",
      "execution_count": 175,
      "metadata": {},
      "outputs": [
        {
          "data": {
            "text/plain": [
              "C    3349\n",
              "D    3349\n",
              "A    3348\n",
              "B    3347\n",
              "Name: class, dtype: int64"
            ]
          },
          "execution_count": 175,
          "metadata": {},
          "output_type": "execute_result"
        }
      ],
      "source": [
        "df['class'].value_counts()"
      ]
    },
    {
      "cell_type": "markdown",
      "metadata": {},
      "source": [
        "Классы почти идеально сбалансированны, можем использовать accuracy"
      ]
    },
    {
      "cell_type": "code",
      "execution_count": 209,
      "metadata": {
        "id": "dgvhCM7HKDWu"
      },
      "outputs": [
        {
          "name": "stdout",
          "output_type": "stream",
          "text": [
            "accuracy = 0.6151549085479656\n",
            "macro =  0.6152736779227979 , micro =  0.6151549085479656\n"
          ]
        },
        {
          "name": "stderr",
          "output_type": "stream",
          "text": [
            "c:\\Users\\ogloc\\AppData\\Local\\Programs\\Python\\Python310\\lib\\site-packages\\sklearn\\utils\\deprecation.py:87: FutureWarning: Function get_feature_names is deprecated; get_feature_names is deprecated in 1.0 and will be removed in 1.2. Please use get_feature_names_out instead.\n",
            "  warnings.warn(msg, category=FutureWarning)\n"
          ]
        }
      ],
      "source": [
        "X = df.drop(columns=[\"class\"]) # укажите новый таргет\n",
        "y = df[\"class\"]\n",
        "\n",
        "label_to_index = {\n",
        "    'A': 0,\n",
        "    'B': 1,\n",
        "    'C': 2,\n",
        "    'D': 3\n",
        "}\n",
        "y = np.array([label_to_index[i] for i in y])\n",
        "\n",
        "cat_features = X.columns[X.dtypes == object]\n",
        "X, cat_col = OHE(X, cat_features)\n",
        "\n",
        "X_train, X_valid, y_train, y_valid = train_test_split(X, y, test_size=0.2, random_state=13)\n",
        "\n",
        "scaler = StandardScaler()\n",
        "\n",
        "scaler.fit(X_train, y_train)\n",
        "X_train = pd.DataFrame(scaler.transform(X_train), index=X_train.index, columns=X_train.columns)\n",
        "X_valid = pd.DataFrame(scaler.transform(X_valid), index=X_valid.index, columns=X_valid.columns)\n",
        "\n",
        "log_reg = LogisticRegression()\n",
        "\n",
        "log_reg.fit(X_train, y_train)\n",
        "y_pred = log_reg.predict(X_valid)\n",
        "print('accuracy =', metrics.accuracy_score(y_valid, y_pred))"
      ]
    },
    {
      "cell_type": "code",
      "execution_count": 208,
      "metadata": {},
      "outputs": [
        {
          "name": "stdout",
          "output_type": "stream",
          "text": [
            "accuracy = 0.6099290780141844\n"
          ]
        }
      ],
      "source": [
        "knn_model = KNeighborsClassifier(n_neighbors = 25)\n",
        "knn_model.fit(X_train, y_train)\n",
        "y_pred = knn_model.predict(X_valid)\n",
        "print('accuracy =', metrics.accuracy_score(y_valid, y_pred))"
      ]
    },
    {
      "cell_type": "markdown",
      "metadata": {},
      "source": [
        "Accuracy линейного классификатора и kNN почти идентичные"
      ]
    }
  ],
  "metadata": {
    "colab": {
      "collapsed_sections": [],
      "provenance": []
    },
    "kernelspec": {
      "display_name": "Python 3.10.5 64-bit",
      "language": "python",
      "name": "python3"
    },
    "language_info": {
      "codemirror_mode": {
        "name": "ipython",
        "version": 3
      },
      "file_extension": ".py",
      "mimetype": "text/x-python",
      "name": "python",
      "nbconvert_exporter": "python",
      "pygments_lexer": "ipython3",
      "version": "3.10.5"
    },
    "vscode": {
      "interpreter": {
        "hash": "c814f020ca40bd9580eb35142fd8f4f123522e545ffe0e2f57f22b8f89ccd43d"
      }
    }
  },
  "nbformat": 4,
  "nbformat_minor": 0
}
