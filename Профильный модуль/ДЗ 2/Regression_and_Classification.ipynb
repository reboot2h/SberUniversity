{
  "cells": [
    {
      "cell_type": "markdown",
      "metadata": {
        "id": "r_lVVaJl2Ncb"
      },
      "source": [
        "# Регрессия"
      ]
    },
    {
      "cell_type": "markdown",
      "metadata": {
        "id": "3pECYqXD2VjG"
      },
      "source": [
        "С 1ого октября отменяется НДС на бриллианты, теперь они становятся новым инвестиционным инструментом. Давайте сделаем модель ценообразования для них.\n",
        "\n",
        "Скачайте датасет diamonds.csv\n",
        "\n",
        "В нем представлены характеристики бриллиантов и их цены с сайта jamesallen (B2C площадка) с 2022-07-01\n",
        "\n",
        "**Описание полей**\n",
        "\n",
        "\n",
        "* fluor - флуорисценуия (свойство камня светиться в лучах ультр)\n",
        "* symmetry - показатель симметричности\n",
        "* platform - название платформы, где был размещен камень\n",
        "* quality_group - составной показатель из cut polish symmetry\n",
        "* size_group - каратно весовая группа\n",
        "* big_size_group - каратно-весовая группа\n",
        "* shape - форма\n",
        "* color - цвет\n",
        "* clarity - чистота\n",
        "* cut - качество огранки (может быть только у круглых камней)\n",
        "* polish - полировка\n",
        "* id - номер камня\n",
        "* date - дата\n",
        "* price - цена\n",
        "* carat - кол-во карат\n",
        "* tablepercent - размер площадки по отношению ширине\n",
        "* price_per_carat - цена за карат\n",
        "* z - длина (diameter)\n",
        "* x - ширина\n",
        "* depth_perc - отношение высоты к ширине\n",
        "* y - высота\n",
        "\n"
      ]
    },
    {
      "cell_type": "code",
      "execution_count": 2,
      "metadata": {
        "id": "iOnp-6t565z8"
      },
      "outputs": [],
      "source": [
        "import pandas as pd\n",
        "import numpy as np"
      ]
    },
    {
      "cell_type": "code",
      "execution_count": 3,
      "metadata": {
        "colab": {
          "base_uri": "https://localhost:8080/"
        },
        "id": "C4f2-y_7bfv8",
        "outputId": "5792d6b6-7adb-4865-e028-eebb47d7d609"
      },
      "outputs": [],
      "source": [
        "# from google.colab import drive\n",
        "# drive.mount('/content/drive')\n",
        "\n",
        "# path = 'drive/MyDrive/'"
      ]
    },
    {
      "cell_type": "code",
      "execution_count": 4,
      "metadata": {
        "id": "iG7MP6VZ2UZN"
      },
      "outputs": [],
      "source": [
        "# df = pd.read_csv(path + 'diamonds.csv', index_col=0)"
      ]
    },
    {
      "cell_type": "code",
      "execution_count": 5,
      "metadata": {},
      "outputs": [],
      "source": [
        "df = pd.read_csv('diamonds.csv', index_col=0)"
      ]
    },
    {
      "cell_type": "markdown",
      "metadata": {
        "id": "PD8Sv2_ktIqx"
      },
      "source": [
        "Хоти предсказать price_per_carat"
      ]
    },
    {
      "cell_type": "markdown",
      "metadata": {
        "id": "HEBGHQkD7DWw"
      },
      "source": [
        "## Задание 1: Очистка\n",
        "\n",
        "Не все камни успевают продаться за один месяц, поэтому в таблице есть повторы. Объедините данные по одному камню: подумайте, как лучше это сделать, какую цену брать.\n",
        "\n",
        "Попробуйте найти аномалии: вдруг цена на некоторые камни сильно меняется (то есть продавец сам не знает, по какой цене их продавать). Также убедитесь, что остальные параметры камня не меняются."
      ]
    },
    {
      "cell_type": "code",
      "execution_count": 6,
      "metadata": {
        "id": "uL1lalBa7AVS"
      },
      "outputs": [
        {
          "name": "stderr",
          "output_type": "stream",
          "text": [
            "C:\\Users\\ogloc\\AppData\\Local\\Temp\\ipykernel_6928\\403455913.py:10: FutureWarning: Indexing with multiple keys (implicitly converted to a tuple of keys) will be deprecated, use a list instead.\n",
            "  stat = df_three.groupby('id')['price', 'carat', 'price_per_carat', 'z', 'x', 'depth_perc', 'y'].agg(np.std) # Посчитайте дстандартное отклонение по по нескольким полям,\n"
          ]
        }
      ],
      "source": [
        "id_stat = df.groupby(by='id')['carat'].count().to_frame() #Посчитайте статистику по кол-ву камней\n",
        "\n",
        "# разделите выборку на две части\n",
        "id_count_1 = id_stat[id_stat['carat'] == 1]\n",
        "df_one = df.query('id in @id_count_1.index')  # те камни, которые встречались один раз\n",
        "id_count_2_3 = id_stat[(id_stat['carat'] == 2) + (id_stat['carat'] == 3)]\n",
        "df_three = df.query('id in @id_count_2_3.index') # те камни, которые встречались 2 или 3 раза\n",
        "\n",
        "\n",
        "stat = df_three.groupby('id')['price', 'carat', 'price_per_carat', 'z', 'x', 'depth_perc', 'y'].agg(np.std) # Посчитайте дстандартное отклонение по по нескольким полям,\n",
        "#  подумайте где оно должно равняться 0, а где меняться в каких-то разумных пределах\n",
        "anomaly_ids = list(stat[(stat['carat'] > 0) + (stat['z'] > 0) + (stat['x'] > 0) + (stat['depth_perc'] > 0) + (stat['y'] > 0)].index)\n",
        "iqr = stat['price_per_carat'].quantile(0.75) - stat['price_per_carat'].quantile(0.25)\n",
        "stat[stat['price_per_carat'] > 1.5 * stat['price_per_carat'].quantile(0.75)].index\n",
        "anomaly_ids.append(stat[stat['price_per_carat'] > 1.5 * stat['price_per_carat'].quantile(0.75)].index)\n",
        "\n",
        "# Удалите аномальные наблюдения\n",
        "df_three = df_three.query('id not in @anomaly_ids').sort_values(by=['id','date'])\n",
        "\n",
        "df_three = df_three.groupby('id').agg('last').reset_index() #тепреь в качестве цены возьмем последнее значение по времени\n",
        "\n",
        "df = pd.concat([df_one, df_three]).reset_index(drop=True) # соединяем результаты"
      ]
    },
    {
      "cell_type": "markdown",
      "metadata": {
        "id": "NnsNVat_CIPB"
      },
      "source": [
        "Цены на бриллианты достаточно сильно меняются, попробуйте вычислить коэффициент инфляции и привести цены к последнему месяцу. Стоит учесть, что цены на все бриллианты не изменяются синхронно, то есть изменение в определенных группах может быть разным.\n",
        "\n",
        "Определите эти группы и рассчитайте коэффициенты инфляции для каждой из них. Подправьте цены на эти коэффициенты и создайте новую переменную."
      ]
    },
    {
      "cell_type": "code",
      "execution_count": 12,
      "metadata": {},
      "outputs": [
        {
          "data": {
            "text/html": [
              "<div>\n",
              "<style scoped>\n",
              "    .dataframe tbody tr th:only-of-type {\n",
              "        vertical-align: middle;\n",
              "    }\n",
              "\n",
              "    .dataframe tbody tr th {\n",
              "        vertical-align: top;\n",
              "    }\n",
              "\n",
              "    .dataframe thead th {\n",
              "        text-align: right;\n",
              "    }\n",
              "</style>\n",
              "<table border=\"1\" class=\"dataframe\">\n",
              "  <thead>\n",
              "    <tr style=\"text-align: right;\">\n",
              "      <th></th>\n",
              "      <th>fluor</th>\n",
              "      <th>symmetry</th>\n",
              "      <th>platform</th>\n",
              "      <th>shape</th>\n",
              "      <th>color</th>\n",
              "      <th>clarity</th>\n",
              "      <th>cut</th>\n",
              "      <th>polish</th>\n",
              "      <th>id</th>\n",
              "      <th>date</th>\n",
              "      <th>price</th>\n",
              "      <th>carat</th>\n",
              "      <th>price_per_carat</th>\n",
              "      <th>z</th>\n",
              "      <th>x</th>\n",
              "      <th>depth_perc</th>\n",
              "      <th>y</th>\n",
              "    </tr>\n",
              "  </thead>\n",
              "  <tbody>\n",
              "    <tr>\n",
              "      <th>0</th>\n",
              "      <td>NONE</td>\n",
              "      <td>EX</td>\n",
              "      <td>jamesallen</td>\n",
              "      <td>PS</td>\n",
              "      <td>D</td>\n",
              "      <td>SI2</td>\n",
              "      <td>NaN</td>\n",
              "      <td>EX</td>\n",
              "      <td>14224443</td>\n",
              "      <td>202205</td>\n",
              "      <td>9120.0</td>\n",
              "      <td>1.51</td>\n",
              "      <td>6039.74</td>\n",
              "      <td>10.67</td>\n",
              "      <td>6.23</td>\n",
              "      <td>59.0</td>\n",
              "      <td>3.67570</td>\n",
              "    </tr>\n",
              "    <tr>\n",
              "      <th>1</th>\n",
              "      <td>NONE</td>\n",
              "      <td>VG</td>\n",
              "      <td>jamesallen</td>\n",
              "      <td>EM</td>\n",
              "      <td>K</td>\n",
              "      <td>SI2</td>\n",
              "      <td>NaN</td>\n",
              "      <td>VG</td>\n",
              "      <td>12902293</td>\n",
              "      <td>202205</td>\n",
              "      <td>1390.0</td>\n",
              "      <td>0.91</td>\n",
              "      <td>1527.47</td>\n",
              "      <td>6.30</td>\n",
              "      <td>4.58</td>\n",
              "      <td>71.0</td>\n",
              "      <td>3.25180</td>\n",
              "    </tr>\n",
              "    <tr>\n",
              "      <th>2</th>\n",
              "      <td>NONE</td>\n",
              "      <td>VG</td>\n",
              "      <td>jamesallen</td>\n",
              "      <td>PS</td>\n",
              "      <td>J</td>\n",
              "      <td>VS1</td>\n",
              "      <td>NaN</td>\n",
              "      <td>VG</td>\n",
              "      <td>12771762</td>\n",
              "      <td>202207</td>\n",
              "      <td>15990.0</td>\n",
              "      <td>2.27</td>\n",
              "      <td>7044.05</td>\n",
              "      <td>11.66</td>\n",
              "      <td>7.26</td>\n",
              "      <td>62.2</td>\n",
              "      <td>4.51572</td>\n",
              "    </tr>\n",
              "    <tr>\n",
              "      <th>3</th>\n",
              "      <td>MED</td>\n",
              "      <td>EX</td>\n",
              "      <td>jamesallen</td>\n",
              "      <td>RD</td>\n",
              "      <td>J</td>\n",
              "      <td>SI2</td>\n",
              "      <td>EX</td>\n",
              "      <td>EX</td>\n",
              "      <td>14584509</td>\n",
              "      <td>202205</td>\n",
              "      <td>3700.0</td>\n",
              "      <td>1.01</td>\n",
              "      <td>3663.37</td>\n",
              "      <td>6.37</td>\n",
              "      <td>6.42</td>\n",
              "      <td>62.0</td>\n",
              "      <td>3.98040</td>\n",
              "    </tr>\n",
              "    <tr>\n",
              "      <th>4</th>\n",
              "      <td>NONE</td>\n",
              "      <td>EX</td>\n",
              "      <td>jamesallen</td>\n",
              "      <td>RD</td>\n",
              "      <td>G</td>\n",
              "      <td>SI1</td>\n",
              "      <td>EX</td>\n",
              "      <td>EX</td>\n",
              "      <td>14773748</td>\n",
              "      <td>202206</td>\n",
              "      <td>7170.0</td>\n",
              "      <td>1.00</td>\n",
              "      <td>7170.00</td>\n",
              "      <td>6.30</td>\n",
              "      <td>6.35</td>\n",
              "      <td>63.7</td>\n",
              "      <td>4.04495</td>\n",
              "    </tr>\n",
              "    <tr>\n",
              "      <th>...</th>\n",
              "      <td>...</td>\n",
              "      <td>...</td>\n",
              "      <td>...</td>\n",
              "      <td>...</td>\n",
              "      <td>...</td>\n",
              "      <td>...</td>\n",
              "      <td>...</td>\n",
              "      <td>...</td>\n",
              "      <td>...</td>\n",
              "      <td>...</td>\n",
              "      <td>...</td>\n",
              "      <td>...</td>\n",
              "      <td>...</td>\n",
              "      <td>...</td>\n",
              "      <td>...</td>\n",
              "      <td>...</td>\n",
              "      <td>...</td>\n",
              "    </tr>\n",
              "    <tr>\n",
              "      <th>131619</th>\n",
              "      <td>NONE</td>\n",
              "      <td>EX</td>\n",
              "      <td>jamesallen</td>\n",
              "      <td>RD</td>\n",
              "      <td>I</td>\n",
              "      <td>SI1</td>\n",
              "      <td>EX</td>\n",
              "      <td>EX</td>\n",
              "      <td>15409696</td>\n",
              "      <td>202207</td>\n",
              "      <td>6040.0</td>\n",
              "      <td>1.01</td>\n",
              "      <td>5980.20</td>\n",
              "      <td>6.46</td>\n",
              "      <td>6.49</td>\n",
              "      <td>60.8</td>\n",
              "      <td>3.94592</td>\n",
              "    </tr>\n",
              "    <tr>\n",
              "      <th>131620</th>\n",
              "      <td>MED</td>\n",
              "      <td>EX</td>\n",
              "      <td>jamesallen</td>\n",
              "      <td>OV</td>\n",
              "      <td>H</td>\n",
              "      <td>VVS2</td>\n",
              "      <td>None</td>\n",
              "      <td>EX</td>\n",
              "      <td>15410303</td>\n",
              "      <td>202207</td>\n",
              "      <td>6620.0</td>\n",
              "      <td>1.01</td>\n",
              "      <td>6554.46</td>\n",
              "      <td>7.76</td>\n",
              "      <td>5.40</td>\n",
              "      <td>65.0</td>\n",
              "      <td>3.51000</td>\n",
              "    </tr>\n",
              "    <tr>\n",
              "      <th>131621</th>\n",
              "      <td>NONE</td>\n",
              "      <td>VG</td>\n",
              "      <td>jamesallen</td>\n",
              "      <td>EM</td>\n",
              "      <td>D</td>\n",
              "      <td>VS1</td>\n",
              "      <td>None</td>\n",
              "      <td>EX</td>\n",
              "      <td>15410668</td>\n",
              "      <td>202207</td>\n",
              "      <td>14750.0</td>\n",
              "      <td>1.50</td>\n",
              "      <td>9833.33</td>\n",
              "      <td>7.84</td>\n",
              "      <td>5.43</td>\n",
              "      <td>65.8</td>\n",
              "      <td>3.57294</td>\n",
              "    </tr>\n",
              "    <tr>\n",
              "      <th>131622</th>\n",
              "      <td>MED</td>\n",
              "      <td>EX</td>\n",
              "      <td>jamesallen</td>\n",
              "      <td>EM</td>\n",
              "      <td>H</td>\n",
              "      <td>SI2</td>\n",
              "      <td>None</td>\n",
              "      <td>EX</td>\n",
              "      <td>15410717</td>\n",
              "      <td>202207</td>\n",
              "      <td>48230.0</td>\n",
              "      <td>4.53</td>\n",
              "      <td>10646.80</td>\n",
              "      <td>11.61</td>\n",
              "      <td>7.57</td>\n",
              "      <td>67.5</td>\n",
              "      <td>5.10975</td>\n",
              "    </tr>\n",
              "    <tr>\n",
              "      <th>131623</th>\n",
              "      <td>NONE</td>\n",
              "      <td>EX</td>\n",
              "      <td>jamesallen</td>\n",
              "      <td>PR</td>\n",
              "      <td>G</td>\n",
              "      <td>VVS2</td>\n",
              "      <td>EX</td>\n",
              "      <td>EX</td>\n",
              "      <td>15412954</td>\n",
              "      <td>202207</td>\n",
              "      <td>7100.0</td>\n",
              "      <td>1.20</td>\n",
              "      <td>5916.67</td>\n",
              "      <td>5.80</td>\n",
              "      <td>5.76</td>\n",
              "      <td>72.4</td>\n",
              "      <td>4.17024</td>\n",
              "    </tr>\n",
              "  </tbody>\n",
              "</table>\n",
              "<p>131624 rows × 17 columns</p>\n",
              "</div>"
            ],
            "text/plain": [
              "       fluor symmetry    platform shape color clarity   cut polish        id  \\\n",
              "0       NONE       EX  jamesallen    PS     D     SI2   NaN     EX  14224443   \n",
              "1       NONE       VG  jamesallen    EM     K     SI2   NaN     VG  12902293   \n",
              "2       NONE       VG  jamesallen    PS     J     VS1   NaN     VG  12771762   \n",
              "3        MED       EX  jamesallen    RD     J     SI2    EX     EX  14584509   \n",
              "4       NONE       EX  jamesallen    RD     G     SI1    EX     EX  14773748   \n",
              "...      ...      ...         ...   ...   ...     ...   ...    ...       ...   \n",
              "131619  NONE       EX  jamesallen    RD     I     SI1    EX     EX  15409696   \n",
              "131620   MED       EX  jamesallen    OV     H    VVS2  None     EX  15410303   \n",
              "131621  NONE       VG  jamesallen    EM     D     VS1  None     EX  15410668   \n",
              "131622   MED       EX  jamesallen    EM     H     SI2  None     EX  15410717   \n",
              "131623  NONE       EX  jamesallen    PR     G    VVS2    EX     EX  15412954   \n",
              "\n",
              "          date    price  carat  price_per_carat      z     x  depth_perc  \\\n",
              "0       202205   9120.0   1.51          6039.74  10.67  6.23        59.0   \n",
              "1       202205   1390.0   0.91          1527.47   6.30  4.58        71.0   \n",
              "2       202207  15990.0   2.27          7044.05  11.66  7.26        62.2   \n",
              "3       202205   3700.0   1.01          3663.37   6.37  6.42        62.0   \n",
              "4       202206   7170.0   1.00          7170.00   6.30  6.35        63.7   \n",
              "...        ...      ...    ...              ...    ...   ...         ...   \n",
              "131619  202207   6040.0   1.01          5980.20   6.46  6.49        60.8   \n",
              "131620  202207   6620.0   1.01          6554.46   7.76  5.40        65.0   \n",
              "131621  202207  14750.0   1.50          9833.33   7.84  5.43        65.8   \n",
              "131622  202207  48230.0   4.53         10646.80  11.61  7.57        67.5   \n",
              "131623  202207   7100.0   1.20          5916.67   5.80  5.76        72.4   \n",
              "\n",
              "              y  \n",
              "0       3.67570  \n",
              "1       3.25180  \n",
              "2       4.51572  \n",
              "3       3.98040  \n",
              "4       4.04495  \n",
              "...         ...  \n",
              "131619  3.94592  \n",
              "131620  3.51000  \n",
              "131621  3.57294  \n",
              "131622  5.10975  \n",
              "131623  4.17024  \n",
              "\n",
              "[131624 rows x 17 columns]"
            ]
          },
          "execution_count": 12,
          "metadata": {},
          "output_type": "execute_result"
        }
      ],
      "source": [
        "df"
      ]
    },
    {
      "cell_type": "code",
      "execution_count": 28,
      "metadata": {
        "id": "nDKdDba4pA7M"
      },
      "outputs": [],
      "source": [
        "categories = ['clarity', 'polish'] #определите по каким группам отпределять инфляцию (к примеру можно добавить каратную группу)\n",
        "\n",
        "df_index = df.groupby(['date'] + categories)[['price_per_carat']]\\\n",
        "                                                                .mean()\\\n",
        "                                                                    .reset_index() # индекс цен\n",
        "\n",
        "date_max = df_index.date.max()\n",
        "\n",
        "\n",
        "df_index = df_index.merge(df_index.query('date == @date_max')[categories + ['price_per_carat']]\\\n",
        "                          .rename(columns={'price_per_carat': 'price_per_carat_max'}), \n",
        "                          on=categories, how='outer') # сопоставляем группы с максимальной датой\n",
        "\n",
        "df_index['inflation'] = df_index['price_per_carat_max'] / df_index.price_per_carat # вычисляем инфляцию\n",
        "\n",
        "df_with_inf = df.merge(df_index[['date'] + categories + ['inflation']], \n",
        "                        on=['date'] + categories, how='left') # соединяем все в одной таблице"
      ]
    },
    {
      "cell_type": "markdown",
      "metadata": {
        "id": "xuPhXT9aESGs"
      },
      "source": [
        "## Задание 2: Модель"
      ]
    },
    {
      "cell_type": "markdown",
      "metadata": {
        "id": "v3OgAHMiExrW"
      },
      "source": [
        "Определите функцию потерь (MSE или MAE) и аргументируйте выбор.\n",
        "Попробуйте сделать baseline.\n",
        "Используйте LableEncoder для категориальных фичей и постройте линейную модель."
      ]
    },
    {
      "cell_type": "code",
      "execution_count": null,
      "metadata": {
        "id": "BEvWYr1uEKJU"
      },
      "outputs": [],
      "source": [
        "from sklearn.model_selection import train_test_split\n",
        "from sklearn.preprocessing import LableEncoder\n",
        "from sklearn.metrics import ...\n",
        "\n",
        "\n",
        "X = df.drop(columns=[\"...\"])\n",
        "y = df[\"...\"]\n",
        "\n",
        "X_train, X_valid, y_train, y_valid = train_test_split(X, y, test_size=0.2, random_state=13)"
      ]
    },
    {
      "cell_type": "markdown",
      "metadata": {
        "id": "Z9kiKhHuFDUD"
      },
      "source": [
        "Теперь попробуйте OHE или TargetEncoder (сравните их).\n",
        "\n",
        "Нормализуйте данные.\n",
        "\n",
        "Поработайте с пропусками (обратите внимание на то, что у fluor возможен пропуск значения, а возможно отсутствие флуоресценции)\n",
        "\n",
        "Покажите, насколько получилось улучшить результат."
      ]
    },
    {
      "cell_type": "code",
      "execution_count": null,
      "metadata": {
        "id": "LeLrnXuepjjb"
      },
      "outputs": [],
      "source": [
        "!pip install category_encoders"
      ]
    },
    {
      "cell_type": "code",
      "execution_count": null,
      "metadata": {
        "id": "becHgg71Iria"
      },
      "outputs": [],
      "source": [
        "from sklearn.preprocessing import OneHotEncoder\n",
        "from category_encoders import TargetEncoder\n",
        "from sklearn.preprocessing import StandardScaler\n",
        "\n",
        "from typing import Tuple, List\n",
        "\n",
        "\n",
        "def OHE(df: pd.DataFrame, columns: List[str]) -> Tuple[pd.DataFrame, List[str]]:\n",
        "    index = df.index\n",
        "    one = OneHotEncoder(sparse=False, categories='auto')\n",
        "    ohe = one.fit_transform(df[columns])\n",
        "    col_names = one.get_feature_names(input_features = columns)\n",
        "    df = df.drop(columns, axis=1)\n",
        "    df = df.reset_index(drop=True)\n",
        "    df = pd.concat([df, pd.DataFrame(ohe, columns=col_names)], axis = 1)\n",
        "    df = df.set_index(index)\n",
        "    return (df, col_names)\n",
        "\n",
        "scaler = StandardScaler() # Помните, что на тесте делаем только transform\n",
        "  "
      ]
    },
    {
      "cell_type": "markdown",
      "metadata": {
        "id": "tnJUqYqWoqgk"
      },
      "source": [
        "Сравните с KNN"
      ]
    },
    {
      "cell_type": "code",
      "execution_count": null,
      "metadata": {
        "id": "bhKgkdw5ou4A"
      },
      "outputs": [],
      "source": [
        "from sklearn.neighbors import KNeighborsRegressor\n",
        "\n"
      ]
    },
    {
      "cell_type": "markdown",
      "metadata": {
        "id": "fLAsZpEeIsyk"
      },
      "source": [
        "# Классификация"
      ]
    },
    {
      "cell_type": "markdown",
      "metadata": {
        "id": "exzgWs8TGVwz"
      },
      "source": [
        "Загрузите датасет bodyPerformance\n",
        "\n",
        "Описание:\n",
        "\n",
        "https://www.kaggle.com/datasets/kukuroo3/body-performance-data"
      ]
    },
    {
      "cell_type": "code",
      "execution_count": null,
      "metadata": {
        "colab": {
          "base_uri": "https://localhost:8080/"
        },
        "id": "HiRlpeObIw30",
        "outputId": "56c8bb8e-4fbc-471f-9ca4-e8ed0978abd6"
      },
      "outputs": [
        {
          "name": "stdout",
          "output_type": "stream",
          "text": [
            "Drive already mounted at /content/drive; to attempt to forcibly remount, call drive.mount(\"/content/drive\", force_remount=True).\n"
          ]
        }
      ],
      "source": [
        "from google.colab import drive\n",
        "drive.mount('/content/drive')\n",
        "\n",
        "path = 'drive/MyDrive/'"
      ]
    },
    {
      "cell_type": "code",
      "execution_count": null,
      "metadata": {
        "id": "8icMo8BR8eJL"
      },
      "outputs": [],
      "source": [
        "df = pd.read_csv(path + '/Classroom/DS 11 VI/ДЗ-регрессия_классификация/bodyPerformance.csv') #укажите свой путь"
      ]
    },
    {
      "cell_type": "markdown",
      "metadata": {
        "id": "mIT8KyvrGFI7"
      },
      "source": [
        "## Задание 1: Определение гендера"
      ]
    },
    {
      "cell_type": "markdown",
      "metadata": {
        "id": "P7hR4HE2GOjH"
      },
      "source": [
        "Постройте модель, которая будет определять гендер."
      ]
    },
    {
      "cell_type": "markdown",
      "metadata": {
        "id": "aAQJ1WhfGhQf"
      },
      "source": [
        "Для этого определите две метрики качества, на которые вы будете смотреть. Аргументируйте свой выбор.\n",
        "\n",
        "После чего преобразуйте категориальные переменные и постройте модель бинарной классификации на основе линейного классификатора и сравните с KNN.\n",
        "\n",
        "P.S.: не забудте про нормализацию."
      ]
    },
    {
      "cell_type": "code",
      "execution_count": null,
      "metadata": {
        "id": "Mhj3I_MuBbFy"
      },
      "outputs": [],
      "source": [
        "from sklearn.neighbors import KNeighborsClassifier\n",
        "from sklearn.linear_model import LogisticRegression\n",
        "from sklearn import metrics\n",
        "\n",
        "X = df.drop(columns=[\"...\"])\n",
        "y = df[\"...\"]\n",
        "\n",
        "X_train, X_valid, y_train, y_valid = train_test_split(X, y, test_size=0.2, random_state=13)\n",
        "\n",
        "scaler = StandardScaler()"
      ]
    },
    {
      "cell_type": "markdown",
      "metadata": {
        "id": "9m0SK6JzKHof"
      },
      "source": [
        "## Задание 2: Определение класса"
      ]
    },
    {
      "cell_type": "markdown",
      "metadata": {
        "id": "s5Hge2C2JSxG"
      },
      "source": [
        "Теперь опробуем построить модель, которая будет предсказывать class физической формы.\n",
        "\n",
        "Для этого определите метрики качества для задачи мультиклассификации (аргументируйте выбор).\n",
        "\n",
        "Постройте модель мультиклассовой классификации на основе линейного классификатора и сравните с KNN."
      ]
    },
    {
      "cell_type": "code",
      "execution_count": null,
      "metadata": {
        "id": "dgvhCM7HKDWu"
      },
      "outputs": [],
      "source": [
        "X = df.drop(columns=[\"...\"]) # укажите новый таргет\n",
        "y = df[\"...\"]\n",
        "\n",
        "X_train, X_valid, y_train, y_valid = train_test_split(X, y, test_size=0.2, random_state=13)"
      ]
    }
  ],
  "metadata": {
    "colab": {
      "collapsed_sections": [],
      "provenance": []
    },
    "kernelspec": {
      "display_name": "Python 3.10.5 64-bit",
      "language": "python",
      "name": "python3"
    },
    "language_info": {
      "codemirror_mode": {
        "name": "ipython",
        "version": 3
      },
      "file_extension": ".py",
      "mimetype": "text/x-python",
      "name": "python",
      "nbconvert_exporter": "python",
      "pygments_lexer": "ipython3",
      "version": "3.10.5"
    },
    "vscode": {
      "interpreter": {
        "hash": "c814f020ca40bd9580eb35142fd8f4f123522e545ffe0e2f57f22b8f89ccd43d"
      }
    }
  },
  "nbformat": 4,
  "nbformat_minor": 0
}
