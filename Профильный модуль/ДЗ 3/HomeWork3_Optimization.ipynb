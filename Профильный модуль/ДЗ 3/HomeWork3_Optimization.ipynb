{
  "cells": [
    {
      "cell_type": "markdown",
      "metadata": {
        "id": "kwXU7hVIpOA0"
      },
      "source": [
        "# Домашняя работа 3\n",
        "## Математическая оптимизация\n",
        "\n",
        "В этом домашнем задании вам предстоит найти минимум функции используя метод `RMSProp`."
      ]
    },
    {
      "cell_type": "markdown",
      "metadata": {
        "id": "xZgZLxjyp2r-"
      },
      "source": [
        "### Вам дана функция $y(x) = x^{3} \\ln(x)$\n",
        "\n",
        "1. Выпишите вид производной этой функции ($y'(x)$). (можно сделать это в виде latex кода, добавления картинки или записью кода python)\n",
        "\n",
        "    $y'(x) = <ВАША\\ ЗАПИСЬ\\ ТУТ>$"
      ]
    },
    {
      "cell_type": "markdown",
      "metadata": {
        "id": "Dkx3W3birlf_"
      },
      "source": [
        "2. Реализуйте функцию `dy(...)` в ячейке ниже, которая на вход принимает $x_0$, а на выходе возвращает значение производной функции $y(x)$ в точке $x_0$ (то есть $y'(x_0)$)."
      ]
    },
    {
      "cell_type": "code",
      "execution_count": null,
      "metadata": {
        "id": "Laaw8J2mpzYG"
      },
      "outputs": [],
      "source": [
        "def dy(...):\n",
        "    \"\"\"\n",
        "    Реализуйте функцию\n",
        "    \"\"\"\n",
        "    ..."
      ]
    },
    {
      "cell_type": "markdown",
      "metadata": {
        "id": "jr4sqAR3ryLb"
      },
      "source": [
        "3. Реализуйте функцию `get_min_with_gd(...)`, которая принимает на вход начальную точку $x_0$, число шагов, lr и thershold; внутри себя производит поиск минимума при помощи градиентного спуска и возвращает последовательность точек, полученных на каждом шаге."
      ]
    },
    {
      "cell_type": "code",
      "execution_count": null,
      "metadata": {
        "id": "l8ls4dWrsD5o"
      },
      "outputs": [],
      "source": [
        "def get_min_with_gd(...):\n",
        "    \"\"\"\n",
        "    Реализуйте функцию\n",
        "    \"\"\"\n",
        "    ... "
      ]
    },
    {
      "cell_type": "code",
      "execution_count": null,
      "metadata": {
        "id": "CVtHzyFMsW4J"
      },
      "outputs": [],
      "source": [
        "# Запустите поиск минимума с любой точки, например с точки 10\n",
        "\n",
        "history = get_min_with_gd(...)"
      ]
    },
    {
      "cell_type": "markdown",
      "metadata": {
        "id": "JfVX0r9PsJEy"
      },
      "source": [
        "4. Проверьте, что все работает ожидаемым образом, запустив ячейку ниже"
      ]
    },
    {
      "cell_type": "code",
      "execution_count": null,
      "metadata": {
        "id": "RCt9VpeFsPHU"
      },
      "outputs": [],
      "source": [
        "plt.figure(figsize=(15, 8))\n",
        "\n",
        "# Отрисуем то, как менялись координаты в процессе поиска минимума\n",
        "plt.plot(history)\n",
        "\n",
        "plt.xlabel('Номер итерации')\n",
        "plt.ylabel('Значение аргумента на итерации')\n",
        "plt.show()"
      ]
    },
    {
      "cell_type": "markdown",
      "metadata": {
        "id": "1Amo1vgzs8IJ"
      },
      "source": [
        "5. Реализовать поиск минимума при помощи алгоритма `RMSProp`. Реализуйте функцию `get_min_with_rmsprop(...)`, которая принимает на вход начальную точку $x_0$, число шагов, lr, $β$ и thershold; внутри себя производит поиск минимума при помощи градиентного спуска и возвращает последовательность точек, полученных на каждом шаге.\n",
        "\n",
        "Напомним как выглядят формулы для этого алгоритма:\n",
        "\n",
        "$$g^{n+1} = ∇f(w^{n})$$\n",
        "$$\\gamma^{n+1} = (1 - \\beta) \\gamma^{n} + \\beta (g^{n+1}) ^ 2$$\n",
        "$$w^{n+1} = w^n - \\frac{\\alpha}{\\sqrt{\\gamma^{n+1} + ɛ}}⋅g^{n+1}$$\n",
        "\n",
        "Здесь $α$ -- learning rate, $ɛ$ -- малое число (можно взять 0.0001 -- оно нужно, чтобы случайно не было деления на 0), $\\beta$ -- мера учета инерции"
      ]
    },
    {
      "cell_type": "code",
      "execution_count": null,
      "metadata": {
        "id": "a-xtle1TvIud"
      },
      "outputs": [],
      "source": [
        "def get_min_with_rmsprop(...):\n",
        "    ..."
      ]
    },
    {
      "cell_type": "code",
      "execution_count": null,
      "metadata": {
        "id": "3jKHYm8Pvm38"
      },
      "outputs": [],
      "source": [
        "# Запустите поиск минимума с нескольких точек, например с 0 и 2\n",
        "\n",
        "history_rmsprop_1 = get_min_with_rmsprop(...)\n",
        "history_rmsprop_2 = get_min_with_rmsprop(...)"
      ]
    },
    {
      "cell_type": "markdown",
      "metadata": {
        "id": "ZMuyKAdDvd9Z"
      },
      "source": [
        "6. Нарисовать график, на котором отображен реальный минимум функции и все точки, которые были получены на каждом шаге RMSProp алгоритма."
      ]
    },
    {
      "cell_type": "code",
      "execution_count": null,
      "metadata": {
        "id": "2jq5RZbVv5E0"
      },
      "outputs": [],
      "source": [
        "# Ваш код тут\n"
      ]
    }
  ],
  "metadata": {
    "colab": {
      "provenance": []
    },
    "kernelspec": {
      "display_name": "Python 3",
      "name": "python3"
    },
    "language_info": {
      "name": "python"
    }
  },
  "nbformat": 4,
  "nbformat_minor": 0
}
