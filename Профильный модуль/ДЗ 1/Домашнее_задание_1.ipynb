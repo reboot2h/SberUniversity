{
  "cells": [
    {
      "cell_type": "markdown",
      "metadata": {
        "id": "zfXb72JB4zaT"
      },
      "source": [
        "## В данном задании мы будем сжимать звуковую дорожку при помощи алгоритма PCA"
      ]
    },
    {
      "cell_type": "code",
      "execution_count": null,
      "metadata": {
        "id": "bxhawxri-zK7"
      },
      "outputs": [],
      "source": [
        "# понадобится для чтения и записи аудио файлов\n",
        "from scipy.io import wavfile\n",
        "\n",
        "# это нужно для проигрывания аудио файлов прямо в блокноте\n",
        "from IPython.display import Audio"
      ]
    },
    {
      "cell_type": "code",
      "execution_count": null,
      "metadata": {
        "id": "qUn_Fmbp8mHF"
      },
      "outputs": [],
      "source": [
        "! wget https://www.dropbox.com/s/p5147nr8mzemxnr/Beethoven_Violin_Sonata_Op_96_first_movement_bars_1-22.wav"
      ]
    },
    {
      "cell_type": "code",
      "execution_count": null,
      "metadata": {
        "id": "CCbvIMhM-fjc"
      },
      "outputs": [],
      "source": [
        "samplerate, data = wavfile.read('Beethoven_Violin_Sonata_Op_96_first_movement_bars_1-22.wav')"
      ]
    },
    {
      "cell_type": "markdown",
      "metadata": {
        "id": "aj-kEh2G_CE6"
      },
      "source": [
        "Выведем частоту дискретизации - она тут стандартная для аудио: 44100 Гц.\n",
        "\n",
        "NOTE: **Частота дискретизации** говорит о том, сколько последовательных элементов массива с сигналом кодируют звук длительностью 1 секунда.\n",
        "\n",
        "Подробнее о кодировании звука [тут](https://ru.wikipedia.org/wiki/Кодирование_звуковой_информации)."
      ]
    },
    {
      "cell_type": "code",
      "execution_count": null,
      "metadata": {
        "id": "YRTtnJQF-95F"
      },
      "outputs": [],
      "source": [
        "print(samplerate)"
      ]
    },
    {
      "cell_type": "code",
      "execution_count": null,
      "metadata": {
        "id": "mBt7kZgH-97Q"
      },
      "outputs": [],
      "source": [
        "# Если поделить длину массива сигнала на samplerate, получится длительность аудиодорожки в секундах\n",
        "\n",
        "print(len(data) / samplerate)\n",
        "\n",
        "# 45 секунд - похоже на правду:)"
      ]
    },
    {
      "cell_type": "code",
      "execution_count": null,
      "metadata": {
        "id": "-rSZCrJTAF-W"
      },
      "outputs": [],
      "source": [
        "# Заметим, что звук - стерео, так как сигнал кодируется двумя каналами (для левого и правого динамика):\n",
        "\n",
        "print(data.shape)"
      ]
    },
    {
      "cell_type": "code",
      "execution_count": null,
      "metadata": {
        "id": "mVJaqGY5APCo"
      },
      "outputs": [],
      "source": [
        "# Отрисуем сигналы в обоих каналах\n",
        "\n",
        "# Канал 1\n",
        "plt.figure(figsize=(20,5))\n",
        "plt.plot(data[:,0])\n",
        "plt.show()\n",
        "\n",
        "# Канал 2\n",
        "plt.figure(figsize=(20,5))\n",
        "plt.plot(data[:,1])\n",
        "plt.show()"
      ]
    },
    {
      "cell_type": "code",
      "execution_count": null,
      "metadata": {
        "id": "c_IvCJzCAW8b"
      },
      "outputs": [],
      "source": [
        "# Усредним каналы, и получим моно звук, с которым будет проще работать\n",
        "\n",
        "mono_sound = np.mean(data, axis=1)\n",
        "print(mono_sound.shape)"
      ]
    },
    {
      "cell_type": "code",
      "execution_count": null,
      "metadata": {
        "id": "kX1NS2aaAgkE"
      },
      "outputs": [],
      "source": [
        "# Давайте послушаем наконец, что же мы будем сжимать:)\n",
        "\n",
        "Audio(mono_sound, rate = samplerate)"
      ]
    },
    {
      "cell_type": "code",
      "execution_count": null,
      "metadata": {
        "id": "Ntt7wfSnA05E"
      },
      "outputs": [],
      "source": [
        "# Для удобства - обрежем массив с сигналом так, чтобы его было удобнее делить на равные части, датасет из которых и необходимо будет сжать известными вам методами.\n",
        "# На самом деле способ очень похож на тот, которым мы сжимали картинку, деля её на прямоугольные подкартинки)\n",
        "\n",
        "mono_sound_to_cut = mono_sound[:1990000]"
      ]
    },
    {
      "cell_type": "markdown",
      "metadata": {
        "id": "Ge67s_evBOZ4"
      },
      "source": [
        "#### Задание 1:\n",
        "\n",
        "1. Разделите сигнал на равные части (длину каждой части возьмите равной 1000).\n",
        "\n",
        "2. Соберите из них \"датасет\", который будет представим в виде двуменого массива - \"матрицы\". (каждая часть длины 1000 -- одна строка)\n",
        "\n",
        "3. Напишите функцию, которая будет переводить вашу \"матрицу\" обратно в звуковой сигнал. Проверьте что все работает, путем воспроизведения востановленного сигнала.\n",
        "\n",
        "Подсказка: Вспомните про метод `.reshape()`"
      ]
    },
    {
      "cell_type": "code",
      "execution_count": null,
      "metadata": {
        "id": "Cu7WGVPYB47z"
      },
      "outputs": [],
      "source": [
        "# Ваше решение здесь"
      ]
    },
    {
      "cell_type": "markdown",
      "metadata": {
        "id": "1sfw3ibiB8ua"
      },
      "source": [
        "#### Задание 2\n",
        "\n",
        "1. Выполните PCA преобразование, и получите данные, сжатые в пространство меньшей размерности  \n",
        "\n",
        "2. Постройте сами две главные компоненты в наглядной форме. Сделайте выводы исходя из их вида.\n",
        "\n",
        "3. Постройте scatter plot датасета в просрансве первых двух компонент, а третью используйте как цвет\n",
        "\n",
        "Подсказка: код этого пункта практически полностью совпадает с кодом, который мы использовали на семинаре."
      ]
    },
    {
      "cell_type": "code",
      "execution_count": null,
      "metadata": {
        "id": "uzolLR40CjF1"
      },
      "outputs": [],
      "source": [
        "# Ваше решение здесь"
      ]
    },
    {
      "cell_type": "markdown",
      "metadata": {
        "id": "IKJYxUGgCkXq"
      },
      "source": [
        "#### Задание 3\n",
        "\n",
        "1. Выполните обратное PCA преобразование сжатых данных и получите \"матрицу\" с сжатым звуком\n",
        "\n",
        "2. Преобразуйте \"матрицу\" в сигнал (одномерный массив), и послушайте результат (Audio(YOUR_RESULT, rate = samplerate)"
      ]
    },
    {
      "cell_type": "code",
      "execution_count": null,
      "metadata": {
        "id": "7x_VAiJQCnNF"
      },
      "outputs": [],
      "source": [
        "# Ваше решение здесь"
      ]
    }
  ],
  "metadata": {
    "colab": {
      "provenance": []
    },
    "kernelspec": {
      "display_name": "Python 3",
      "name": "python3"
    },
    "language_info": {
      "name": "python"
    }
  },
  "nbformat": 4,
  "nbformat_minor": 0
}